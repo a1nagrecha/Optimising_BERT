{
 "cells": [
  {
   "cell_type": "code",
   "execution_count": 1,
   "id": "6823b07b-c3a7-4c1e-b3c7-5c31668da256",
   "metadata": {},
   "outputs": [],
   "source": [
    "#!pip install fsspec==2023.9.2\n",
    "!pip install -q transformers"
   ]
  },
  {
   "cell_type": "code",
   "execution_count": 2,
   "id": "0687a5a0-744a-4c86-a0c6-36c15cfded73",
   "metadata": {},
   "outputs": [
    {
     "name": "stdout",
     "output_type": "stream",
     "text": [
      "Name: transformers\n",
      "Version: 4.34.0\n",
      "Summary: State-of-the-art Machine Learning for JAX, PyTorch and TensorFlow\n",
      "Home-page: https://github.com/huggingface/transformers\n",
      "Author: The Hugging Face team (past and future) with the help of all our contributors (https://github.com/huggingface/transformers/graphs/contributors)\n",
      "Author-email: transformers@huggingface.co\n",
      "License: Apache 2.0 License\n",
      "Location: /opt/conda/lib/python3.10/site-packages\n",
      "Requires: filelock, huggingface-hub, numpy, packaging, pyyaml, regex, requests, safetensors, tokenizers, tqdm\n",
      "Required-by: \n"
     ]
    }
   ],
   "source": [
    "!pip show transformers\n"
   ]
  },
  {
   "cell_type": "markdown",
   "id": "5f108252-19bd-44fd-b812-56a2d581025d",
   "metadata": {},
   "source": [
    "### Data preparation\n",
    "- collating data\n",
    "- balancing data\n",
    "- text preprocessing"
   ]
  },
  {
   "cell_type": "code",
   "execution_count": 3,
   "id": "eafcb6e5-608a-4481-bf35-bbae017ba6e6",
   "metadata": {},
   "outputs": [],
   "source": [
    "import pandas as pd \n",
    "import numpy as np\n",
    "\n",
    "df = pd.read_csv(r'gs://sentiment_response/pjs_all.csv', nrows = 20000)\n",
    "\n",
    "\n",
    "df['nps'] = df['nps'].replace('10 (Extremely likely)',10)\n",
    "df['nps'] = df['nps'].replace('0 (Not at all likely)',0)\n",
    "df['nps'] = df['nps'].astype(int)\n",
    "\n",
    "#target variable will nps split into demoters, passives and promoters\n",
    "df['nps_group'] = np.where(df['nps'] >= 9,2,\n",
    "                  np.where(df['nps'] <= 6,0,1))\n"
   ]
  },
  {
   "cell_type": "code",
   "execution_count": 4,
   "id": "9aeceed5-aa7a-4143-899c-347dd15ccc4e",
   "metadata": {},
   "outputs": [],
   "source": [
    "#balancing the dataset\n",
    "gb = df.groupby('nps_group')['nps_group'].count()\n",
    "max_rows = gb.min()\n",
    "\n",
    "df_neg = df[df['nps_group'] == 0 ].head(max_rows)\n",
    "df_neut = df[df['nps_group'] == 1 ].head(max_rows)\n",
    "df_pos = df[df['nps_group'] == 2 ].head(max_rows)\n",
    "\n",
    "df = pd.concat([df_pos,df_neut,df_neg], axis = 0)"
   ]
  },
  {
   "cell_type": "code",
   "execution_count": 5,
   "id": "bf183303-4733-4098-babb-fa54370a6e05",
   "metadata": {},
   "outputs": [],
   "source": [
    "#clean data slightly\n",
    "import re\n",
    "def text_preprocessing(text):\n",
    "    \"\"\"\n",
    "    - Remove entity mentions (eg. '@united')\n",
    "    - Correct errors (eg. '&amp;' to '&')\n",
    "    @param    text (str): a string to be processed.\n",
    "    @return   text (Str): the processed string.\n",
    "    \"\"\"\n",
    "    # Remove '@name'\n",
    "    text = re.sub(r'(@.*?)[\\s]', ' ', text)\n",
    "\n",
    "    # Replace '&amp;' with '&'\n",
    "    text = re.sub(r'&amp;', '&', text)\n",
    "\n",
    "    # Remove trailing whitespace\n",
    "    text = re.sub(r'\\s+', ' ', text).strip()\n",
    "\n",
    "    return text\n",
    "\n",
    "df['response'] = df['response'].apply(lambda x: text_preprocessing(x))"
   ]
  },
  {
   "cell_type": "code",
   "execution_count": 6,
   "id": "c0273b80-4ca7-40d3-89d8-96d5976eeb11",
   "metadata": {},
   "outputs": [],
   "source": [
    "#producing the train, test and validation sets\n",
    "from sklearn.model_selection import train_test_split\n",
    "X_train, X_test, y_train, y_test = train_test_split(df['response'],df['nps_group'], test_size = 0.33, random_state=42)\n",
    "X_test, X_val, y_test, y_val = train_test_split(X_test,y_test, test_size = 0.5, random_state=42)"
   ]
  },
  {
   "cell_type": "markdown",
   "id": "a4f9280f-5ae3-4ded-9380-bb37f76a91ed",
   "metadata": {},
   "source": [
    "### Pre-processing for BERT"
   ]
  },
  {
   "cell_type": "code",
   "execution_count": 7,
   "id": "f63d3649-be49-48af-be27-1fc505190b2a",
   "metadata": {},
   "outputs": [
    {
     "name": "stderr",
     "output_type": "stream",
     "text": [
      "The tokenizer class you load from this checkpoint is not the same type as the class this function is called from. It may result in unexpected tokenization. \n",
      "The tokenizer class you load from this checkpoint is 'DistilBertTokenizer'. \n",
      "The class this function is called from is 'BertTokenizer'.\n"
     ]
    }
   ],
   "source": [
    "from transformers import BertTokenizer\n",
    "import torch\n",
    "# imports the torch_xla package\n",
    "#import torch_xla\n",
    "#import torch_xla.core.xla_model as xm\n",
    "\n",
    "tokenizer = BertTokenizer.from_pretrained('distilbert-base-uncased', do_lower_case=True)\n",
    "#device = xm.xla_device()\n",
    "device = torch.device(\"cuda:0\" if torch.cuda.is_available() else \"cpu\")\n",
    "def preprocessing_for_bert(data):\n",
    "    \"\"\"Perform required preprocessing steps for pretrained BERT.\n",
    "    @param    data (np.array): Array of texts to be processed.\n",
    "    @return   input_ids (torch.Tensor): Tensor of token ids to be fed to a model.\n",
    "    @return   attention_masks (torch.Tensor): Tensor of indices specifying which\n",
    "                  tokens should be attended to by the model.\n",
    "    \"\"\"\n",
    "    # Create empty lists to store outputs\n",
    "    input_ids = []\n",
    "    attention_masks = []\n",
    "\n",
    "    # For every sentence...\n",
    "    for sent in data:\n",
    "        # `encode_plus` will:\n",
    "        #    (1) Tokenize the sentence\n",
    "        #    (2) Add the `[CLS]` and `[SEP]` token to the start and end\n",
    "        #    (3) Truncate/Pad sentence to max length\n",
    "        #    (4) Map tokens to their IDs\n",
    "        #    (5) Create attention mask\n",
    "        #    (6) Return a dictionary of outputs\n",
    "        encoded_sent = tokenizer.encode_plus(\n",
    "            text=text_preprocessing(sent),  # Preprocess sentence\n",
    "            add_special_tokens=True,        # Add `[CLS]` and `[SEP]`\n",
    "            max_length=MAX_LEN,                  # Max length to truncate/pad\n",
    "            pad_to_max_length=True,         # Pad sentence to max length\n",
    "            #return_tensors='pt',           # Return PyTorch tensor\n",
    "            return_attention_mask=True      # Return attention mask\n",
    "            )\n",
    "\n",
    "        # Add the outputs to the lists\n",
    "        input_ids.append(encoded_sent.get('input_ids'))\n",
    "        attention_masks.append(encoded_sent.get('attention_mask'))\n",
    "\n",
    "    # Convert lists to tensors\n",
    "    input_ids = torch.tensor(input_ids)\n",
    "    attention_masks = torch.tensor(attention_masks)\n",
    "\n",
    "    return input_ids, attention_masks"
   ]
  },
  {
   "cell_type": "code",
   "execution_count": 8,
   "id": "9050cec8-1494-4583-82a2-95da80b3605e",
   "metadata": {},
   "outputs": [
    {
     "name": "stdout",
     "output_type": "stream",
     "text": [
      "Max length:  494\n"
     ]
    }
   ],
   "source": [
    "#need to specify the maximum string length from responses\n",
    "responses = df['response'].to_numpy()\n",
    "# Encode our concatenated data\n",
    "encoded_response = [tokenizer.encode(sent, add_special_tokens=True) for sent in responses]\n",
    "\n",
    "# Find the maximum length\n",
    "max_len = max([len(sent) for sent in encoded_response])\n",
    "print('Max length: ', max_len)"
   ]
  },
  {
   "cell_type": "code",
   "execution_count": 9,
   "id": "451f24ce-03eb-4222-a8f9-cddccf73f9ec",
   "metadata": {},
   "outputs": [
    {
     "name": "stderr",
     "output_type": "stream",
     "text": [
      "Truncation was not explicitly activated but `max_length` is provided a specific value, please use `truncation=True` to explicitly truncate examples to max length. Defaulting to 'longest_first' truncation strategy. If you encode pairs of sequences (GLUE-style) with the tokenizer you can select this strategy more precisely by providing a specific strategy to `truncation`.\n"
     ]
    },
    {
     "name": "stdout",
     "output_type": "stream",
     "text": [
      "Tokenizing data...\n"
     ]
    },
    {
     "name": "stderr",
     "output_type": "stream",
     "text": [
      "/opt/conda/lib/python3.10/site-packages/transformers/tokenization_utils_base.py:2622: FutureWarning: The `pad_to_max_length` argument is deprecated and will be removed in a future version, use `padding=True` or `padding='longest'` to pad to the longest sequence in the batch, or use `padding='max_length'` to pad to a max length. In this case, you can give a specific length with `max_length` (e.g. `max_length=45`) or leave max_length to None to pad to the maximal input size of the model (e.g. 512 for Bert).\n",
      "  warnings.warn(\n"
     ]
    }
   ],
   "source": [
    "# Specify `MAX_LEN`\n",
    "MAX_LEN = 490\n",
    "\n",
    "# # Print sentence 0 and its encoded token ids\n",
    "# token_ids = list(preprocessing_for_bert([X_train[0]])[0].squeeze().numpy())\n",
    "# print('Original: ', X_train[0])\n",
    "# print('Token IDs: ', token_ids)\n",
    "\n",
    "# Run function `preprocessing_for_bert` on the train set and the validation set\n",
    "print('Tokenizing data...')\n",
    "train_inputs, train_masks = preprocessing_for_bert(X_train)\n",
    "val_inputs, val_masks = preprocessing_for_bert(X_test)\n",
    "final_inputs, final_masks = preprocessing_for_bert(X_val)"
   ]
  },
  {
   "cell_type": "code",
   "execution_count": 10,
   "id": "dabf0e39-d5ad-4c33-93f2-565ea914afed",
   "metadata": {},
   "outputs": [],
   "source": [
    "from torch.utils.data import TensorDataset, DataLoader, RandomSampler, SequentialSampler\n",
    "\n",
    "# Convert other data types to torch.Tensor\n",
    "train_labels = torch.tensor(y_train.to_numpy())\n",
    "val_labels = torch.tensor(y_test.to_numpy())\n",
    "\n",
    "# For fine-tuning BERT, the authors recommend a batch size of 16 or 32.\n",
    "batch_size = 16\n",
    "\n",
    "# Create the DataLoader for our training set\n",
    "train_data = TensorDataset(train_inputs, train_masks, train_labels)\n",
    "train_sampler = RandomSampler(train_data)\n",
    "train_dataloader = DataLoader(train_data, sampler=train_sampler, batch_size=batch_size)\n",
    "\n",
    "# Create the DataLoader for our validation set\n",
    "val_data = TensorDataset(val_inputs, val_masks, val_labels)\n",
    "val_sampler = SequentialSampler(val_data)\n",
    "val_dataloader = DataLoader(val_data, sampler=val_sampler, batch_size=batch_size)\n",
    "\n"
   ]
  },
  {
   "cell_type": "code",
   "execution_count": 11,
   "id": "cc32e134-1f0b-47a4-afe6-652c2060137e",
   "metadata": {},
   "outputs": [
    {
     "name": "stdout",
     "output_type": "stream",
     "text": [
      "CPU times: user 61.2 ms, sys: 0 ns, total: 61.2 ms\n",
      "Wall time: 191 ms\n"
     ]
    }
   ],
   "source": [
    "%%time\n",
    "import torch\n",
    "import torch.nn as nn\n",
    "from transformers import BertModel\n",
    "\n",
    "# Create the BertClassfier class\n",
    "class BertClassifier(nn.Module):\n",
    "    \"\"\"Bert Model for Classification Tasks.\n",
    "    \"\"\"\n",
    "    def __init__(self, freeze_bert=False):\n",
    "        \"\"\"\n",
    "        @param    bert: a BertModel object\n",
    "        @param    classifier: a torch.nn.Module classifier\n",
    "        @param    freeze_bert (bool): Set `False` to fine-tune the BERT model\n",
    "        \"\"\"\n",
    "        super(BertClassifier, self).__init__()\n",
    "        # Specify hidden size of BERT, hidden size of our classifier, and number of labels\n",
    "        D_in, H, D_out = 768, 50, 3\n",
    "\n",
    "        # Instantiate BERT model\n",
    "        self.bert = BertModel.from_pretrained('bert-base-uncased')\n",
    "\n",
    "        # Instantiate an one-layer feed-forward classifier\n",
    "        self.classifier = nn.Sequential(\n",
    "            nn.Linear(D_in, H),\n",
    "            nn.ReLU(),\n",
    "            #nn.Dropout(0.5),\n",
    "            nn.Linear(H, D_out)\n",
    "        )\n",
    "\n",
    "        # Freeze the BERT model\n",
    "        if freeze_bert:\n",
    "            for param in self.bert.parameters():\n",
    "                param.requires_grad = False\n",
    "\n",
    "    def forward(self, input_ids, attention_mask):\n",
    "        \"\"\"\n",
    "        Feed input to BERT and the classifier to compute logits.\n",
    "        @param    input_ids (torch.Tensor): an input tensor with shape (batch_size,\n",
    "                      max_length)\n",
    "        @param    attention_mask (torch.Tensor): a tensor that hold attention mask\n",
    "                      information with shape (batch_size, max_length)\n",
    "        @return   logits (torch.Tensor): an output tensor with shape (batch_size,\n",
    "                      num_labels)\n",
    "        \"\"\"\n",
    "        # Feed input to BERT\n",
    "        outputs = self.bert(input_ids=input_ids,\n",
    "                            attention_mask=attention_mask)\n",
    "\n",
    "        # Extract the last hidden state of the token `[CLS]` for classification task\n",
    "        last_hidden_state_cls = outputs[0][:, 0, :]\n",
    "\n",
    "        # Feed input to classifier to compute logits\n",
    "        logits = self.classifier(last_hidden_state_cls)\n",
    "\n",
    "        return logits\n",
    "\n"
   ]
  },
  {
   "cell_type": "code",
   "execution_count": 12,
   "id": "f260bc53-2cc5-4454-a83f-9949640ece0a",
   "metadata": {},
   "outputs": [],
   "source": [
    "from transformers import get_linear_schedule_with_warmup\n",
    "from torch.optim import AdamW\n",
    "def initialize_model(epochs=4):\n",
    "    \"\"\"Initialize the Bert Classifier, the optimizer and the learning rate scheduler.\n",
    "    \"\"\"\n",
    "    # Instantiate Bert Classifier\n",
    "    bert_classifier = BertClassifier(freeze_bert=False)\n",
    "\n",
    "    # Tell PyTorch to run the model on CPU\n",
    "    bert_classifier.to(device)\n",
    "\n",
    "    # Create the optimizer\n",
    "    optimizer = AdamW(bert_classifier.parameters(),\n",
    "                      lr=5e-5,    # Default learning rate\n",
    "                      eps=1e-8    # Default epsilon value\n",
    "                      )\n",
    "\n",
    "    # Total number of training steps\n",
    "    total_steps = len(train_dataloader) * epochs\n",
    "\n",
    "    # Set up the learning rate scheduler\n",
    "    scheduler = get_linear_schedule_with_warmup(optimizer,\n",
    "                                                num_warmup_steps=0, # Default value\n",
    "                                                num_training_steps=total_steps)\n",
    "    return bert_classifier, optimizer, scheduler\n"
   ]
  },
  {
   "cell_type": "code",
   "execution_count": 13,
   "id": "8bd72499-5ad3-4140-b32a-52a848ea8836",
   "metadata": {},
   "outputs": [],
   "source": [
    "import random\n",
    "import time\n",
    "\n",
    "# Specify loss function\n",
    "loss_fn = nn.CrossEntropyLoss()\n",
    "\n",
    "def set_seed(seed_value=42):\n",
    "    \"\"\"Set seed for reproducibility.\n",
    "    \"\"\"\n",
    "    random.seed(seed_value)\n",
    "    np.random.seed(seed_value)\n",
    "    torch.manual_seed(seed_value)\n",
    "    torch.cuda.manual_seed_all(seed_value)\n",
    "\n",
    "def train(model, train_dataloader, val_dataloader=None, epochs=4, evaluation=False):\n",
    "    \"\"\"Train the BertClassifier model.\n",
    "    \"\"\"\n",
    "    # Start training loop\n",
    "    print(\"Start training...\\n\")\n",
    "    for epoch_i in range(epochs):\n",
    "        # =======================================\n",
    "        #               Training\n",
    "        # =======================================\n",
    "        # Print the header of the result table\n",
    "        print(f\"{'Epoch':^7} | {'Batch':^7} | {'Train Loss':^12} | {'Val Loss':^10} | {'Val Acc':^9} | {'Elapsed':^9}\")\n",
    "        print(\"-\"*70)\n",
    "\n",
    "        # Measure the elapsed time of each epoch\n",
    "        t0_epoch, t0_batch = time.time(), time.time()\n",
    "\n",
    "        # Reset tracking variables at the beginning of each epoch\n",
    "        total_loss, batch_loss, batch_counts = 0, 0, 0\n",
    "\n",
    "        # Put the model into the training mode\n",
    "        model.train()\n",
    "\n",
    "        # For each batch of training data...\n",
    "        for step, batch in enumerate(train_dataloader):\n",
    "            batch_counts +=1\n",
    "            # Load batch to GPU\n",
    "            b_input_ids, b_attn_mask, b_labels = tuple(t.to(device) for t in batch)\n",
    "\n",
    "            # Zero out any previously calculated gradients\n",
    "            model.zero_grad()\n",
    "\n",
    "            # Perform a forward pass. This will return logits.\n",
    "            logits = model(b_input_ids, b_attn_mask)\n",
    "\n",
    "            # Compute loss and accumulate the loss values\n",
    "            loss = loss_fn(logits, b_labels)\n",
    "            batch_loss += loss.item()\n",
    "            total_loss += loss.item()\n",
    "\n",
    "            # Perform a backward pass to calculate gradients\n",
    "            loss.backward()\n",
    "\n",
    "            # Clip the norm of the gradients to 1.0 to prevent \"exploding gradients\"\n",
    "            torch.nn.utils.clip_grad_norm_(model.parameters(), 1.0)\n",
    "\n",
    "            # Update parameters and the learning rate\n",
    "            optimizer.step()\n",
    "            scheduler.step()\n",
    "\n",
    "            # Print the loss values and time elapsed for every 20 batches\n",
    "            if (step % 20 == 0 and step != 0) or (step == len(train_dataloader) - 1):\n",
    "                # Calculate time elapsed for 20 batches\n",
    "                time_elapsed = time.time() - t0_batch\n",
    "\n",
    "                # Print training results\n",
    "                print(f\"{epoch_i + 1:^7} | {step:^7} | {batch_loss / batch_counts:^12.6f} | {'-':^10} | {'-':^9} | {time_elapsed:^9.2f}\")\n",
    "\n",
    "                # Reset batch tracking variables\n",
    "                batch_loss, batch_counts = 0, 0\n",
    "                t0_batch = time.time()\n",
    "\n",
    "        # Calculate the average loss over the entire training data\n",
    "        avg_train_loss = total_loss / len(train_dataloader)\n",
    "\n",
    "        print(\"-\"*70)\n",
    "        # =======================================\n",
    "        #               Evaluation\n",
    "        # =======================================\n",
    "        if evaluation == True:\n",
    "            # After the completion of each training epoch, measure the model's performance\n",
    "            # on our validation set.\n",
    "            val_loss, val_accuracy = evaluate(model, val_dataloader)\n",
    "\n",
    "            # Print performance over the entire training data\n",
    "            time_elapsed = time.time() - t0_epoch\n",
    "\n",
    "            print(f\"{epoch_i + 1:^7} | {'-':^7} | {avg_train_loss:^12.6f} | {val_loss:^10.6f} | {val_accuracy:^9.2f} | {time_elapsed:^9.2f}\")\n",
    "            print(\"-\"*70)\n",
    "        print(\"\\n\")\n",
    "\n",
    "    print(\"Training complete!\")\n",
    "\n",
    "\n",
    "def evaluate(model, val_dataloader):\n",
    "    \"\"\"After the completion of each training epoch, measure the model's performance\n",
    "    on our validation set.\n",
    "    \"\"\"\n",
    "    # Put the model into the evaluation mode. The dropout layers are disabled during\n",
    "    # the test time.\n",
    "    model.eval()\n",
    "\n",
    "    # Tracking variables\n",
    "    val_accuracy = []\n",
    "    val_loss = []\n",
    "\n",
    "    # For each batch in our validation set...\n",
    "    for batch in val_dataloader:\n",
    "        # Load batch to GPU\n",
    "        b_input_ids, b_attn_mask, b_labels = tuple(t.to(device) for t in batch)\n",
    "\n",
    "        # Compute logits\n",
    "        with torch.no_grad():\n",
    "            logits = model(b_input_ids, b_attn_mask)\n",
    "\n",
    "        # Compute loss\n",
    "        loss = loss_fn(logits, b_labels)\n",
    "        val_loss.append(loss.item())\n",
    "\n",
    "        # Get the predictions\n",
    "        preds = torch.argmax(logits, dim=1).flatten()\n",
    "\n",
    "        # Calculate the accuracy rate\n",
    "        accuracy = (preds == b_labels).cpu().numpy().mean() * 100\n",
    "        val_accuracy.append(accuracy)\n",
    "\n",
    "    # Compute the average accuracy and loss over the validation set.\n",
    "    val_loss = np.mean(val_loss)\n",
    "    val_accuracy = np.mean(val_accuracy)\n",
    "\n",
    "    return val_loss, val_accuracy\n"
   ]
  },
  {
   "cell_type": "code",
   "execution_count": 14,
   "id": "167e156a-f8e5-49ae-ad69-8c2622eb74af",
   "metadata": {},
   "outputs": [
    {
     "name": "stdout",
     "output_type": "stream",
     "text": [
      "Start training...\n",
      "\n",
      " Epoch  |  Batch  |  Train Loss  |  Val Loss  |  Val Acc  |  Elapsed \n",
      "----------------------------------------------------------------------\n",
      "   1    |   20    |   1.043902   |     -      |     -     |   19.43  \n",
      "   1    |   40    |   0.936557   |     -      |     -     |   14.78  \n",
      "   1    |   60    |   0.771304   |     -      |     -     |   14.82  \n",
      "   1    |   80    |   0.706313   |     -      |     -     |   14.96  \n",
      "   1    |   100   |   0.680337   |     -      |     -     |   15.10  \n",
      "   1    |   120   |   0.655590   |     -      |     -     |   15.13  \n",
      "   1    |   140   |   0.698620   |     -      |     -     |   15.08  \n",
      "   1    |   160   |   0.574166   |     -      |     -     |   15.06  \n",
      "   1    |   180   |   0.642322   |     -      |     -     |   15.03  \n",
      "   1    |   200   |   0.691368   |     -      |     -     |   15.03  \n",
      "   1    |   220   |   0.642492   |     -      |     -     |   15.05  \n",
      "   1    |   240   |   0.666164   |     -      |     -     |   15.08  \n",
      "   1    |   260   |   0.690794   |     -      |     -     |   15.07  \n",
      "   1    |   280   |   0.695978   |     -      |     -     |   15.07  \n",
      "   1    |   300   |   0.603642   |     -      |     -     |   15.07  \n",
      "   1    |   320   |   0.586532   |     -      |     -     |   15.08  \n",
      "   1    |   340   |   0.594277   |     -      |     -     |   15.07  \n",
      "   1    |   360   |   0.617423   |     -      |     -     |   15.05  \n",
      "   1    |   380   |   0.639852   |     -      |     -     |   15.07  \n",
      "   1    |   400   |   0.607009   |     -      |     -     |   15.08  \n",
      "   1    |   406   |   0.500913   |     -      |     -     |   4.52   \n",
      "----------------------------------------------------------------------\n",
      "   1    |    -    |   0.685362   |  0.617028  |   73.89   |  336.16  \n",
      "----------------------------------------------------------------------\n",
      "\n",
      "\n",
      " Epoch  |  Batch  |  Train Loss  |  Val Loss  |  Val Acc  |  Elapsed \n",
      "----------------------------------------------------------------------\n",
      "   2    |   20    |   0.488906   |     -      |     -     |   15.78  \n",
      "   2    |   40    |   0.466343   |     -      |     -     |   15.06  \n",
      "   2    |   60    |   0.514192   |     -      |     -     |   15.06  \n",
      "   2    |   80    |   0.444652   |     -      |     -     |   15.07  \n",
      "   2    |   100   |   0.541934   |     -      |     -     |   15.07  \n",
      "   2    |   120   |   0.541305   |     -      |     -     |   15.05  \n",
      "   2    |   140   |   0.517004   |     -      |     -     |   15.06  \n",
      "   2    |   160   |   0.498590   |     -      |     -     |   15.06  \n",
      "   2    |   180   |   0.501165   |     -      |     -     |   15.07  \n",
      "   2    |   200   |   0.467731   |     -      |     -     |   15.08  \n",
      "   2    |   220   |   0.509776   |     -      |     -     |   15.07  \n",
      "   2    |   240   |   0.502355   |     -      |     -     |   15.07  \n",
      "   2    |   260   |   0.555188   |     -      |     -     |   15.05  \n",
      "   2    |   280   |   0.540311   |     -      |     -     |   15.06  \n",
      "   2    |   300   |   0.426591   |     -      |     -     |   15.09  \n",
      "   2    |   320   |   0.493601   |     -      |     -     |   15.08  \n",
      "   2    |   340   |   0.422426   |     -      |     -     |   15.06  \n",
      "   2    |   360   |   0.541482   |     -      |     -     |   15.06  \n",
      "   2    |   380   |   0.381867   |     -      |     -     |   15.07  \n",
      "   2    |   400   |   0.419616   |     -      |     -     |   15.06  \n",
      "   2    |   406   |   0.615070   |     -      |     -     |   4.52   \n",
      "----------------------------------------------------------------------\n",
      "   2    |    -    |   0.490614   |  0.624371  |   73.76   |  333.07  \n",
      "----------------------------------------------------------------------\n",
      "\n",
      "\n",
      "Training complete!\n"
     ]
    }
   ],
   "source": [
    "set_seed(42)    # Set seed for reproducibility\n",
    "bert_classifier, optimizer, scheduler = initialize_model(epochs=2)\n",
    "train(bert_classifier, train_dataloader, val_dataloader, epochs=2, evaluation=True)\n"
   ]
  },
  {
   "cell_type": "code",
   "execution_count": 49,
   "id": "8a91884f-ca5d-4eb4-a763-95e72030feb1",
   "metadata": {},
   "outputs": [],
   "source": [
    "import torch.nn.functional as F\n",
    "import matplotlib as mpl\n",
    "import matplotlib.pyplot as plt\n",
    "\n",
    "def bert_predict(model, test_dataloader):\n",
    "    \"\"\"Perform a forward pass on the trained BERT model to predict probabilities\n",
    "    on the test set.\n",
    "    \"\"\"\n",
    "    # Put the model into the evaluation mode. The dropout layers are disabled during\n",
    "    # the test time.\n",
    "    model.eval()\n",
    "\n",
    "    all_logits = []\n",
    "\n",
    "    # For each batch in our test set...\n",
    "    for batch in test_dataloader:\n",
    "        # Load batch to GPU\n",
    "        b_input_ids, b_attn_mask = tuple(t.to(device) for t in batch)[:2]\n",
    "\n",
    "        # Compute logits\n",
    "        with torch.no_grad():\n",
    "            logits = model(b_input_ids, b_attn_mask)\n",
    "        all_logits.append(logits)\n",
    "\n",
    "    # Concatenate logits from each batch\n",
    "    all_logits = torch.cat(all_logits, dim=0)\n",
    "\n",
    "    # Apply softmax to calculate probabilities\n",
    "    probs = F.softmax(all_logits).cpu().numpy()\n",
    "\n",
    "    return probs\n",
    "\n",
    "from sklearn.metrics import accuracy_score, roc_curve, auc\n",
    "\n",
    "def evaluate_roc(probs, y_true):\n",
    "    \"\"\"\n",
    "    - Print AUC and accuracy on the test set\n",
    "    - Plot ROC\n",
    "    @params    probs (np.array): an array of predicted probabilities with shape (len(y_true), 2)\n",
    "    @params    y_true (np.array): an array of the true values with shape (len(y_true),)\n",
    "    \"\"\"\n",
    "    # preds = probs[:, 1]\n",
    "    # fpr, tpr, threshold = roc_curve(y_true, preds)\n",
    "    # roc_auc = auc(fpr, tpr)\n",
    "    #print(f'AUC: {roc_auc:.4f}')\n",
    "\n",
    "    # Get accuracy over the test set\n",
    "    accuracy = accuracy_score(y_true, probs)\n",
    "    print(f'Accuracy: {accuracy*100:.2f}%')\n",
    "\n",
    "    # # Plot ROC AUC\n",
    "    # plt.title('Receiver Operating Characteristic')\n",
    "    # plt.plot(fpr, tpr, 'b', label = 'AUC = %0.2f' % roc_auc)\n",
    "    # plt.legend(loc = 'lower right')\n",
    "    # plt.plot([0, 1], [0, 1],'r--')\n",
    "    # plt.xlim([0, 1])\n",
    "    # plt.ylim([0, 1])\n",
    "    # plt.ylabel('True Positive Rate')\n",
    "    # plt.xlabel('False Positive Rate')\n",
    "    # plt.show()\n",
    "    return accuracy"
   ]
  },
  {
   "cell_type": "code",
   "execution_count": 25,
   "id": "410b90e3-e882-4064-9a0d-e531f7fdb7d3",
   "metadata": {},
   "outputs": [
    {
     "name": "stderr",
     "output_type": "stream",
     "text": [
      "/var/tmp/ipykernel_2329/992971884.py:29: UserWarning: Implicit dimension choice for softmax has been deprecated. Change the call to include dim=X as an argument.\n",
      "  probs = F.softmax(all_logits).cpu().numpy()\n"
     ]
    },
    {
     "ename": "IndexError",
     "evalue": "too many indices for array: array is 1-dimensional, but 2 were indexed",
     "output_type": "error",
     "traceback": [
      "\u001b[0;31m---------------------------------------------------------------------------\u001b[0m",
      "\u001b[0;31mIndexError\u001b[0m                                Traceback (most recent call last)",
      "Cell \u001b[0;32mIn[25], line 7\u001b[0m\n\u001b[1;32m      5\u001b[0m classification \u001b[38;5;241m=\u001b[39m probs\u001b[38;5;241m.\u001b[39margmax(axis \u001b[38;5;241m=\u001b[39m \u001b[38;5;241m1\u001b[39m)\n\u001b[1;32m      6\u001b[0m \u001b[38;5;66;03m# # Evaluate the Bert classifier\u001b[39;00m\n\u001b[0;32m----> 7\u001b[0m \u001b[43mevaluate_roc\u001b[49m\u001b[43m(\u001b[49m\u001b[43mclassification\u001b[49m\u001b[43m,\u001b[49m\u001b[43m \u001b[49m\u001b[43my_test\u001b[49m\u001b[43m)\u001b[49m\n",
      "Cell \u001b[0;32mIn[19], line 42\u001b[0m, in \u001b[0;36mevaluate_roc\u001b[0;34m(probs, y_true)\u001b[0m\n\u001b[1;32m     35\u001b[0m \u001b[38;5;28;01mdef\u001b[39;00m \u001b[38;5;21mevaluate_roc\u001b[39m(probs, y_true):\n\u001b[1;32m     36\u001b[0m \u001b[38;5;250m    \u001b[39m\u001b[38;5;124;03m\"\"\"\u001b[39;00m\n\u001b[1;32m     37\u001b[0m \u001b[38;5;124;03m    - Print AUC and accuracy on the test set\u001b[39;00m\n\u001b[1;32m     38\u001b[0m \u001b[38;5;124;03m    - Plot ROC\u001b[39;00m\n\u001b[1;32m     39\u001b[0m \u001b[38;5;124;03m    @params    probs (np.array): an array of predicted probabilities with shape (len(y_true), 2)\u001b[39;00m\n\u001b[1;32m     40\u001b[0m \u001b[38;5;124;03m    @params    y_true (np.array): an array of the true values with shape (len(y_true),)\u001b[39;00m\n\u001b[1;32m     41\u001b[0m \u001b[38;5;124;03m    \"\"\"\u001b[39;00m\n\u001b[0;32m---> 42\u001b[0m     preds \u001b[38;5;241m=\u001b[39m \u001b[43mprobs\u001b[49m\u001b[43m[\u001b[49m\u001b[43m:\u001b[49m\u001b[43m,\u001b[49m\u001b[43m \u001b[49m\u001b[38;5;241;43m1\u001b[39;49m\u001b[43m]\u001b[49m\n\u001b[1;32m     43\u001b[0m     fpr, tpr, threshold \u001b[38;5;241m=\u001b[39m roc_curve(y_true, preds)\n\u001b[1;32m     44\u001b[0m     roc_auc \u001b[38;5;241m=\u001b[39m auc(fpr, tpr)\n",
      "\u001b[0;31mIndexError\u001b[0m: too many indices for array: array is 1-dimensional, but 2 were indexed"
     ]
    }
   ],
   "source": [
    "# Compute predicted probabilities on the test set\n",
    "probs = bert_predict(bert_classifier, val_dataloader)\n",
    "\n",
    "# #converting softmax probabilities to classification\n",
    "# classification = probs.argmax(axis = 1)\n",
    "# # # Evaluate the Bert classifier\n",
    "# evaluate_roc(classification, y_test)"
   ]
  },
  {
   "cell_type": "code",
   "execution_count": 50,
   "id": "b7bc479e-4cda-46f7-b658-ca1c81ec43bc",
   "metadata": {},
   "outputs": [
    {
     "name": "stdout",
     "output_type": "stream",
     "text": [
      "Accuracy: 73.75%\n"
     ]
    }
   ],
   "source": [
    "#converting softmax probabilities to classification\n",
    "classification = probs.argmax(axis = 1)\n",
    "# # Evaluate the Bert classifier\n",
    "accuracy = evaluate_roc(classification, y_test)"
   ]
  },
  {
   "cell_type": "markdown",
   "id": "3042d4cb-423d-47d2-ba21-0984cab478fa",
   "metadata": {},
   "source": [
    "## Saving the model and recording its production"
   ]
  },
  {
   "cell_type": "code",
   "execution_count": 29,
   "id": "35540045-8d4c-4b60-9eb2-288fd8a00af1",
   "metadata": {},
   "outputs": [
    {
     "data": {
      "text/plain": [
       "'surveys-402414'"
      ]
     },
     "execution_count": 29,
     "metadata": {},
     "output_type": "execute_result"
    }
   ],
   "source": [
    "project = !gcloud config get-value project\n",
    "PROJECT_ID = project[0]\n",
    "PROJECT_ID"
   ]
  },
  {
   "cell_type": "code",
   "execution_count": 33,
   "id": "2983912b-c972-4b4f-a9b0-5495550c96c2",
   "metadata": {},
   "outputs": [],
   "source": [
    "#saving the model \n",
    "from datetime import datetime\n",
    "REGION = 'europe-west2'\n",
    "EXPERIMENT = '01'\n",
    "SERIES = '01'\n",
    "\n",
    "TIMESTAMP = datetime.now().strftime(\"%Y%m%d%H%M%S\")\n",
    "BUCKET = PROJECT_ID\n",
    "URI = f\"gs://{BUCKET}/{SERIES}/{EXPERIMENT}\"\n",
    "DIR = f\"temp/{EXPERIMENT}\"\n",
    "BLOB = f\"{SERIES}/{EXPERIMENT}/models/{TIMESTAMP}/model/sentiment_classifier.pt\"\n"
   ]
  },
  {
   "cell_type": "code",
   "execution_count": 44,
   "id": "cbf98d6e-bb5a-42da-ab36-7945bdf8caa6",
   "metadata": {},
   "outputs": [],
   "source": [
    "FRAMEWORK = 'pytorch'\n",
    "TASK = 'classification'\n",
    "MODEL_TYPE = 'bert'\n",
    "EXPERIMENT_NAME = f'experiment-{SERIES}-{EXPERIMENT}-{FRAMEWORK}-{TASK}-{MODEL_TYPE}'\n",
    "RUN_NAME = f'run-{TIMESTAMP}'"
   ]
  },
  {
   "cell_type": "code",
   "execution_count": 34,
   "id": "246f77af-32b2-4ab7-8108-6a963269a4f9",
   "metadata": {},
   "outputs": [],
   "source": [
    "#Required packages\n",
    "from google.cloud import aiplatform\n",
    "from google.cloud import storage\n",
    "import json\n",
    "\n",
    "from datetime import datetime\n",
    "import os\n",
    "\n",
    "from google.protobuf import json_format\n",
    "from google.protobuf.struct_pb2 import Value"
   ]
  },
  {
   "cell_type": "code",
   "execution_count": 35,
   "id": "c71751f3-74b7-4c21-8dc0-27421ec023d3",
   "metadata": {},
   "outputs": [],
   "source": [
    "aiplatform.init(project=PROJECT_ID, location=REGION)"
   ]
  },
  {
   "cell_type": "code",
   "execution_count": 36,
   "id": "9ead1184-e50a-4425-b696-9f7c0703097d",
   "metadata": {},
   "outputs": [],
   "source": [
    "!rm -rf {DIR}\n",
    "!mkdir -p {DIR}"
   ]
  },
  {
   "cell_type": "markdown",
   "id": "5b647b79-ebaf-4c63-9b89-c9845677a702",
   "metadata": {},
   "source": [
    "## Initialising experiment"
   ]
  },
  {
   "cell_type": "code",
   "execution_count": 46,
   "id": "b9f19dab-0239-4a89-a260-1a3b9070a38b",
   "metadata": {},
   "outputs": [
    {
     "name": "stdout",
     "output_type": "stream",
     "text": [
      "Creating Tensorboard\n"
     ]
    },
    {
     "name": "stderr",
     "output_type": "stream",
     "text": [
      "INFO:google.cloud.aiplatform.tensorboard.tensorboard_resource:Creating Tensorboard\n"
     ]
    },
    {
     "name": "stdout",
     "output_type": "stream",
     "text": [
      "Create Tensorboard backing LRO: projects/240414127532/locations/europe-west2/tensorboards/5224597780214841344/operations/2605762293480292352\n"
     ]
    },
    {
     "name": "stderr",
     "output_type": "stream",
     "text": [
      "INFO:google.cloud.aiplatform.tensorboard.tensorboard_resource:Create Tensorboard backing LRO: projects/240414127532/locations/europe-west2/tensorboards/5224597780214841344/operations/2605762293480292352\n"
     ]
    },
    {
     "name": "stdout",
     "output_type": "stream",
     "text": [
      "Tensorboard created. Resource name: projects/240414127532/locations/europe-west2/tensorboards/5224597780214841344\n"
     ]
    },
    {
     "name": "stderr",
     "output_type": "stream",
     "text": [
      "INFO:google.cloud.aiplatform.tensorboard.tensorboard_resource:Tensorboard created. Resource name: projects/240414127532/locations/europe-west2/tensorboards/5224597780214841344\n"
     ]
    },
    {
     "name": "stdout",
     "output_type": "stream",
     "text": [
      "To use this Tensorboard in another session:\n"
     ]
    },
    {
     "name": "stderr",
     "output_type": "stream",
     "text": [
      "INFO:google.cloud.aiplatform.tensorboard.tensorboard_resource:To use this Tensorboard in another session:\n"
     ]
    },
    {
     "name": "stdout",
     "output_type": "stream",
     "text": [
      "tb = aiplatform.Tensorboard('projects/240414127532/locations/europe-west2/tensorboards/5224597780214841344')\n"
     ]
    },
    {
     "name": "stderr",
     "output_type": "stream",
     "text": [
      "INFO:google.cloud.aiplatform.tensorboard.tensorboard_resource:tb = aiplatform.Tensorboard('projects/240414127532/locations/europe-west2/tensorboards/5224597780214841344')\n"
     ]
    }
   ],
   "source": [
    "aiplatform.init(experiment = EXPERIMENT_NAME)"
   ]
  },
  {
   "cell_type": "code",
   "execution_count": 47,
   "id": "83b99566-10be-4536-a95a-ff646b3a9731",
   "metadata": {},
   "outputs": [
    {
     "name": "stdout",
     "output_type": "stream",
     "text": [
      "Associating projects/240414127532/locations/europe-west2/metadataStores/default/contexts/experiment-01-01-pytorch-classification-bert-run-20231024142940 to Experiment: experiment-01-01-pytorch-classification-bert\n"
     ]
    },
    {
     "name": "stderr",
     "output_type": "stream",
     "text": [
      "INFO:google.cloud.aiplatform.metadata.experiment_resources:Associating projects/240414127532/locations/europe-west2/metadataStores/default/contexts/experiment-01-01-pytorch-classification-bert-run-20231024142940 to Experiment: experiment-01-01-pytorch-classification-bert\n"
     ]
    }
   ],
   "source": [
    "expRun = aiplatform.ExperimentRun.create(run_name = RUN_NAME, experiment = EXPERIMENT_NAME)"
   ]
  },
  {
   "cell_type": "code",
   "execution_count": 48,
   "id": "34ae6e69-3fd5-48d3-82df-89dcd4998546",
   "metadata": {},
   "outputs": [],
   "source": [
    "#log parameters to the experiment run:\n",
    "expRun.log_params({'experiment': EXPERIMENT, 'series': SERIES, 'project_id': PROJECT_ID})"
   ]
  },
  {
   "cell_type": "code",
   "execution_count": 51,
   "id": "cc4ca9ef-ba64-4d37-b36b-57d73b72e932",
   "metadata": {},
   "outputs": [],
   "source": [
    "expRun.log_metrics({'test_accuracy': accuracy})"
   ]
  },
  {
   "cell_type": "markdown",
   "id": "4e417773-17f3-4ff4-8075-45f7f03e78e1",
   "metadata": {},
   "source": [
    "## Saving model for later use "
   ]
  },
  {
   "cell_type": "code",
   "execution_count": 52,
   "id": "de2f2675-63d1-43e1-93e7-fc08138bfa04",
   "metadata": {},
   "outputs": [],
   "source": [
    "model_save_name = 'sentiment_classifier.pt'\n",
    "path = F\"{model_save_name}\"\n",
    "torch.save(bert_classifier.state_dict(), path)"
   ]
  },
  {
   "cell_type": "code",
   "execution_count": 56,
   "id": "9a301f37-20fd-49fe-a13f-382c227ca67d",
   "metadata": {},
   "outputs": [],
   "source": [
    "# Upload the model to GCS\n",
    "bucket = storage.Client().bucket('sentiment_response')\n",
    "blob = bucket.blob(BLOB)\n",
    "blob.upload_from_filename('sentiment_classifier.pt')"
   ]
  },
  {
   "cell_type": "code",
   "execution_count": 57,
   "id": "91ff5b42-354b-41b0-aeee-71570dcfe043",
   "metadata": {},
   "outputs": [
    {
     "name": "stdout",
     "output_type": "stream",
     "text": [
      "gs://sentiment_response/01/01/models/20231024142940/model/sentiment_classifier.pt\n"
     ]
    }
   ],
   "source": [
    "!gsutil ls gs://sentiment_response/01/01/models/20231024142940/model"
   ]
  },
  {
   "cell_type": "code",
   "execution_count": 58,
   "id": "6725f460-b9c4-48ad-a4f3-d46eb8c53cb7",
   "metadata": {},
   "outputs": [],
   "source": [
    "#logging where the model has been saved\n",
    "expRun.log_params({'model.save': r'gs://sentiment_response/01/01/models/20231024142940/model/sentiment_classifier.pt'})"
   ]
  },
  {
   "cell_type": "code",
   "execution_count": 69,
   "id": "ea23f9cd-8433-47aa-8d5d-86ebf5543459",
   "metadata": {},
   "outputs": [
    {
     "name": "stdout",
     "output_type": "stream",
     "text": [
      "This is a new model, creating in model registry\n",
      "Creating Model\n"
     ]
    },
    {
     "name": "stderr",
     "output_type": "stream",
     "text": [
      "INFO:google.cloud.aiplatform.models:Creating Model\n"
     ]
    },
    {
     "name": "stdout",
     "output_type": "stream",
     "text": [
      "Create Model backing LRO: projects/240414127532/locations/europe-west2/models/model_01_01/operations/5591648846426931200\n"
     ]
    },
    {
     "name": "stderr",
     "output_type": "stream",
     "text": [
      "INFO:google.cloud.aiplatform.models:Create Model backing LRO: projects/240414127532/locations/europe-west2/models/model_01_01/operations/5591648846426931200\n"
     ]
    },
    {
     "name": "stdout",
     "output_type": "stream",
     "text": [
      "Model created. Resource name: projects/240414127532/locations/europe-west2/models/model_01_01@1\n"
     ]
    },
    {
     "name": "stderr",
     "output_type": "stream",
     "text": [
      "INFO:google.cloud.aiplatform.models:Model created. Resource name: projects/240414127532/locations/europe-west2/models/model_01_01@1\n"
     ]
    },
    {
     "name": "stdout",
     "output_type": "stream",
     "text": [
      "To use this Model in another session:\n"
     ]
    },
    {
     "name": "stderr",
     "output_type": "stream",
     "text": [
      "INFO:google.cloud.aiplatform.models:To use this Model in another session:\n"
     ]
    },
    {
     "name": "stdout",
     "output_type": "stream",
     "text": [
      "model = aiplatform.Model('projects/240414127532/locations/europe-west2/models/model_01_01@1')\n"
     ]
    },
    {
     "name": "stderr",
     "output_type": "stream",
     "text": [
      "INFO:google.cloud.aiplatform.models:model = aiplatform.Model('projects/240414127532/locations/europe-west2/models/model_01_01@1')\n"
     ]
    }
   ],
   "source": [
    "modelmatch = aiplatform.Model.list(filter = f'display_name={SERIES}_{EXPERIMENT} AND labels.series={SERIES} AND labels.experiment={EXPERIMENT}')\n",
    "\n",
    "upload_model = True\n",
    "if modelmatch:\n",
    "    print(\"Model Already in Registry:\")\n",
    "    if RUN_NAME in modelmatch[0].version_aliases:\n",
    "        print(\"This version already loaded, no action taken.\")\n",
    "        upload_model = False\n",
    "        model = aiplatform.Model(model_name = modelmatch[0].resource_name)\n",
    "    else:\n",
    "        print('Loading model as new default version.')\n",
    "        parent_model = modelmatch[0].resource_name\n",
    "\n",
    "else:\n",
    "    print('This is a new model, creating in model registry')\n",
    "    parent_model = ''\n",
    "\n",
    "if upload_model:\n",
    "    model = aiplatform.Model.upload(\n",
    "        display_name = f'{SERIES}_{EXPERIMENT}',\n",
    "        model_id = f'model_{SERIES}_{EXPERIMENT}',\n",
    "        parent_model =  parent_model,\n",
    "        serving_container_image_uri = 'europe-docker.pkg.dev/vertex-ai/training/pytorch-gpu.1-13:latest',\n",
    "        artifact_uri =r'gs://sentiment_response/01/01/models/20231024142940/model',\n",
    "        is_default_version = True,\n",
    "        version_aliases = [RUN_NAME],\n",
    "        version_description = RUN_NAME,\n",
    "        labels = {'series' : f'{SERIES}', 'experiment' : f'{EXPERIMENT}', 'experiment_name' : f'{EXPERIMENT_NAME}', 'run_name' : f'{RUN_NAME}'}        \n",
    "    )"
   ]
  },
  {
   "cell_type": "code",
   "execution_count": 70,
   "id": "6c59fc1c-4206-4a7b-a04c-86c43fea5163",
   "metadata": {},
   "outputs": [
    {
     "name": "stdout",
     "output_type": "stream",
     "text": [
      "Review the model in the Vertex AI Model Registry:\n",
      "https://console.cloud.google.com/vertex-ai/locations/europe-west2/models/model_01_01?project=surveys-402414\n"
     ]
    }
   ],
   "source": [
    "print(f'Review the model in the Vertex AI Model Registry:\\nhttps://console.cloud.google.com/vertex-ai/locations/{REGION}/models/{model.name}?project={PROJECT_ID}')"
   ]
  },
  {
   "cell_type": "code",
   "execution_count": 71,
   "id": "7ccb3949-9ab4-4026-9fed-2b7a58de56d4",
   "metadata": {},
   "outputs": [],
   "source": [
    "#update model descriptions\n",
    "expRun.log_params({\n",
    "    'model.uri': model.uri,\n",
    "    'model.display_name': model.display_name,\n",
    "    'model.name': model.name,\n",
    "    'model.resource_name': model.resource_name,\n",
    "    'model.version_id': model.version_id,\n",
    "    'model.versioned_resource_name': model.versioned_resource_name\n",
    "})"
   ]
  },
  {
   "cell_type": "code",
   "execution_count": 72,
   "id": "91c81a21-fadf-482a-a187-e3ffdd1a2920",
   "metadata": {},
   "outputs": [],
   "source": [
    "#complete experiment run\n",
    "expRun.update_state(state = aiplatform.gapic.Execution.State.COMPLETE)"
   ]
  },
  {
   "cell_type": "code",
   "execution_count": 73,
   "id": "9136884b-ecce-4ccd-8aa8-c75fd6588918",
   "metadata": {},
   "outputs": [],
   "source": [
    "exp = aiplatform.Experiment(experiment_name = EXPERIMENT_NAME)"
   ]
  },
  {
   "cell_type": "code",
   "execution_count": 74,
   "id": "e175ebec-925c-446b-8a6f-14c83a2eed48",
   "metadata": {},
   "outputs": [
    {
     "data": {
      "text/html": [
       "<div>\n",
       "<style scoped>\n",
       "    .dataframe tbody tr th:only-of-type {\n",
       "        vertical-align: middle;\n",
       "    }\n",
       "\n",
       "    .dataframe tbody tr th {\n",
       "        vertical-align: top;\n",
       "    }\n",
       "\n",
       "    .dataframe thead th {\n",
       "        text-align: right;\n",
       "    }\n",
       "</style>\n",
       "<table border=\"1\" class=\"dataframe\">\n",
       "  <thead>\n",
       "    <tr style=\"text-align: right;\">\n",
       "      <th></th>\n",
       "      <th>experiment_name</th>\n",
       "      <th>run_name</th>\n",
       "      <th>run_type</th>\n",
       "      <th>state</th>\n",
       "      <th>param.series</th>\n",
       "      <th>param.model.name</th>\n",
       "      <th>param.project_id</th>\n",
       "      <th>param.model.resource_name</th>\n",
       "      <th>param.model.save</th>\n",
       "      <th>param.model.versioned_resource_name</th>\n",
       "      <th>param.experiment</th>\n",
       "      <th>param.model.display_name</th>\n",
       "      <th>param.model.version_id</th>\n",
       "      <th>param.model.uri</th>\n",
       "      <th>metric.test_accuracy</th>\n",
       "    </tr>\n",
       "  </thead>\n",
       "  <tbody>\n",
       "    <tr>\n",
       "      <th>0</th>\n",
       "      <td>experiment-01-01-pytorch-classification-bert</td>\n",
       "      <td>run-20231024142940</td>\n",
       "      <td>system.ExperimentRun</td>\n",
       "      <td>COMPLETE</td>\n",
       "      <td>01</td>\n",
       "      <td>model_01_01</td>\n",
       "      <td>surveys-402414</td>\n",
       "      <td>projects/240414127532/locations/europe-west2/m...</td>\n",
       "      <td>gs://sentiment_response/01/01/models/202310241...</td>\n",
       "      <td>projects/240414127532/locations/europe-west2/m...</td>\n",
       "      <td>01</td>\n",
       "      <td>01_01</td>\n",
       "      <td>1</td>\n",
       "      <td>gs://sentiment_response/01/01/models/202310241...</td>\n",
       "      <td>0.737531</td>\n",
       "    </tr>\n",
       "  </tbody>\n",
       "</table>\n",
       "</div>"
      ],
      "text/plain": [
       "                                experiment_name            run_name  \\\n",
       "0  experiment-01-01-pytorch-classification-bert  run-20231024142940   \n",
       "\n",
       "               run_type     state param.series param.model.name  \\\n",
       "0  system.ExperimentRun  COMPLETE           01      model_01_01   \n",
       "\n",
       "  param.project_id                          param.model.resource_name  \\\n",
       "0   surveys-402414  projects/240414127532/locations/europe-west2/m...   \n",
       "\n",
       "                                    param.model.save  \\\n",
       "0  gs://sentiment_response/01/01/models/202310241...   \n",
       "\n",
       "                 param.model.versioned_resource_name param.experiment  \\\n",
       "0  projects/240414127532/locations/europe-west2/m...               01   \n",
       "\n",
       "  param.model.display_name param.model.version_id  \\\n",
       "0                    01_01                      1   \n",
       "\n",
       "                                     param.model.uri  metric.test_accuracy  \n",
       "0  gs://sentiment_response/01/01/models/202310241...              0.737531  "
      ]
     },
     "execution_count": 74,
     "metadata": {},
     "output_type": "execute_result"
    }
   ],
   "source": [
    "exp.get_data_frame()"
   ]
  },
  {
   "cell_type": "markdown",
   "id": "2bd69c2c-c208-4679-b81e-b9d04c5f6941",
   "metadata": {},
   "source": [
    "## Now need to have a current version which is managed in the model registry"
   ]
  },
  {
   "cell_type": "code",
   "execution_count": null,
   "id": "e4f8f42a-dcf8-4789-8540-e866996c9176",
   "metadata": {},
   "outputs": [],
   "source": []
  }
 ],
 "metadata": {
  "environment": {
   "kernel": "python3",
   "name": "pytorch-gpu.2-0.m112",
   "type": "gcloud",
   "uri": "gcr.io/deeplearning-platform-release/pytorch-gpu.2-0:m112"
  },
  "kernelspec": {
   "display_name": "Python 3",
   "language": "python",
   "name": "python3"
  },
  "language_info": {
   "codemirror_mode": {
    "name": "ipython",
    "version": 3
   },
   "file_extension": ".py",
   "mimetype": "text/x-python",
   "name": "python",
   "nbconvert_exporter": "python",
   "pygments_lexer": "ipython3",
   "version": "3.10.12"
  }
 },
 "nbformat": 4,
 "nbformat_minor": 5
}
