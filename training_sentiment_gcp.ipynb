{
 "cells": [
  {
   "cell_type": "code",
   "execution_count": 1,
   "id": "6823b07b-c3a7-4c1e-b3c7-5c31668da256",
   "metadata": {},
   "outputs": [],
   "source": [
    "#!pip install fsspec==2023.9.2\n",
    "!pip install -q transformers"
   ]
  },
  {
   "cell_type": "code",
   "execution_count": 2,
   "id": "0687a5a0-744a-4c86-a0c6-36c15cfded73",
   "metadata": {},
   "outputs": [
    {
     "name": "stdout",
     "output_type": "stream",
     "text": [
      "Name: transformers\n",
      "Version: 4.35.0\n",
      "Summary: State-of-the-art Machine Learning for JAX, PyTorch and TensorFlow\n",
      "Home-page: https://github.com/huggingface/transformers\n",
      "Author: The Hugging Face team (past and future) with the help of all our contributors (https://github.com/huggingface/transformers/graphs/contributors)\n",
      "Author-email: transformers@huggingface.co\n",
      "License: Apache 2.0 License\n",
      "Location: /opt/conda/lib/python3.10/site-packages\n",
      "Requires: filelock, huggingface-hub, numpy, packaging, pyyaml, regex, requests, safetensors, tokenizers, tqdm\n",
      "Required-by: \n"
     ]
    }
   ],
   "source": [
    "!pip show transformers\n"
   ]
  },
  {
   "cell_type": "code",
   "execution_count": 3,
   "id": "89c9e517-70fd-499c-8e23-9de04305f05f",
   "metadata": {},
   "outputs": [
    {
     "name": "stdout",
     "output_type": "stream",
     "text": [
      "|===========================================================================|\n",
      "|                  PyTorch CUDA memory summary, device ID 0                 |\n",
      "|---------------------------------------------------------------------------|\n",
      "|            CUDA OOMs: 0            |        cudaMalloc retries: 0         |\n",
      "|===========================================================================|\n",
      "|        Metric         | Cur Usage  | Peak Usage | Tot Alloc  | Tot Freed  |\n",
      "|---------------------------------------------------------------------------|\n",
      "| Allocated memory      |      0 B   |      0 B   |      0 B   |      0 B   |\n",
      "|       from large pool |      0 B   |      0 B   |      0 B   |      0 B   |\n",
      "|       from small pool |      0 B   |      0 B   |      0 B   |      0 B   |\n",
      "|---------------------------------------------------------------------------|\n",
      "| Active memory         |      0 B   |      0 B   |      0 B   |      0 B   |\n",
      "|       from large pool |      0 B   |      0 B   |      0 B   |      0 B   |\n",
      "|       from small pool |      0 B   |      0 B   |      0 B   |      0 B   |\n",
      "|---------------------------------------------------------------------------|\n",
      "| Requested memory      |      0 B   |      0 B   |      0 B   |      0 B   |\n",
      "|       from large pool |      0 B   |      0 B   |      0 B   |      0 B   |\n",
      "|       from small pool |      0 B   |      0 B   |      0 B   |      0 B   |\n",
      "|---------------------------------------------------------------------------|\n",
      "| GPU reserved memory   |      0 B   |      0 B   |      0 B   |      0 B   |\n",
      "|       from large pool |      0 B   |      0 B   |      0 B   |      0 B   |\n",
      "|       from small pool |      0 B   |      0 B   |      0 B   |      0 B   |\n",
      "|---------------------------------------------------------------------------|\n",
      "| Non-releasable memory |      0 B   |      0 B   |      0 B   |      0 B   |\n",
      "|       from large pool |      0 B   |      0 B   |      0 B   |      0 B   |\n",
      "|       from small pool |      0 B   |      0 B   |      0 B   |      0 B   |\n",
      "|---------------------------------------------------------------------------|\n",
      "| Allocations           |       0    |       0    |       0    |       0    |\n",
      "|       from large pool |       0    |       0    |       0    |       0    |\n",
      "|       from small pool |       0    |       0    |       0    |       0    |\n",
      "|---------------------------------------------------------------------------|\n",
      "| Active allocs         |       0    |       0    |       0    |       0    |\n",
      "|       from large pool |       0    |       0    |       0    |       0    |\n",
      "|       from small pool |       0    |       0    |       0    |       0    |\n",
      "|---------------------------------------------------------------------------|\n",
      "| GPU reserved segments |       0    |       0    |       0    |       0    |\n",
      "|       from large pool |       0    |       0    |       0    |       0    |\n",
      "|       from small pool |       0    |       0    |       0    |       0    |\n",
      "|---------------------------------------------------------------------------|\n",
      "| Non-releasable allocs |       0    |       0    |       0    |       0    |\n",
      "|       from large pool |       0    |       0    |       0    |       0    |\n",
      "|       from small pool |       0    |       0    |       0    |       0    |\n",
      "|---------------------------------------------------------------------------|\n",
      "| Oversize allocations  |       0    |       0    |       0    |       0    |\n",
      "|---------------------------------------------------------------------------|\n",
      "| Oversize GPU segments |       0    |       0    |       0    |       0    |\n",
      "|===========================================================================|\n",
      "\n"
     ]
    }
   ],
   "source": [
    "import torch\n",
    "\n",
    "# Call torch.cuda.memory_summary() to print the memory summary\n",
    "print(torch.cuda.memory_summary(device=None, abbreviated=False))"
   ]
  },
  {
   "cell_type": "code",
   "execution_count": 19,
   "id": "49c8977a-814a-40e4-be9e-83b3395281d8",
   "metadata": {},
   "outputs": [
    {
     "data": {
      "text/plain": [
       "124"
      ]
     },
     "execution_count": 19,
     "metadata": {},
     "output_type": "execute_result"
    }
   ],
   "source": [
    "import torch\n",
    "import gc\n",
    "torch.cuda.empty_cache()\n",
    "gc.collect()"
   ]
  },
  {
   "cell_type": "markdown",
   "id": "5f108252-19bd-44fd-b812-56a2d581025d",
   "metadata": {},
   "source": [
    "### Data preparation\n",
    "- collating data\n",
    "- balancing data\n",
    "- text preprocessing"
   ]
  },
  {
   "cell_type": "code",
   "execution_count": 4,
   "id": "eafcb6e5-608a-4481-bf35-bbae017ba6e6",
   "metadata": {},
   "outputs": [],
   "source": [
    "import pandas as pd \n",
    "import numpy as np\n",
    "\n",
    "df = pd.read_csv(r'gs://sentiment_response/pjs_all.csv', nrows = 20000)\n",
    "\n",
    "\n",
    "df['nps'] = df['nps'].replace('10 (Extremely likely)',10)\n",
    "df['nps'] = df['nps'].replace('0 (Not at all likely)',0)\n",
    "df['nps'] = df['nps'].astype(int)\n",
    "\n",
    "#target variable will nps split into demoters, passives and promoters\n",
    "df['nps_group'] = np.where(df['nps'] >= 9,2,\n",
    "                  np.where(df['nps'] <= 6,0,1))\n"
   ]
  },
  {
   "cell_type": "code",
   "execution_count": 5,
   "id": "9aeceed5-aa7a-4143-899c-347dd15ccc4e",
   "metadata": {},
   "outputs": [],
   "source": [
    "#balancing the dataset\n",
    "gb = df.groupby('nps_group')['nps_group'].count()\n",
    "max_rows = gb.min()\n",
    "\n",
    "df_neg = df[df['nps_group'] == 0 ].head(max_rows)\n",
    "df_neut = df[df['nps_group'] == 1 ].head(max_rows)\n",
    "df_pos = df[df['nps_group'] == 2 ].head(max_rows)\n",
    "\n",
    "df = pd.concat([df_pos,df_neut,df_neg], axis = 0)"
   ]
  },
  {
   "cell_type": "code",
   "execution_count": 6,
   "id": "bf183303-4733-4098-babb-fa54370a6e05",
   "metadata": {},
   "outputs": [],
   "source": [
    "#clean data slightly\n",
    "import re\n",
    "def text_preprocessing(text):\n",
    "    \"\"\"\n",
    "    - Remove entity mentions (eg. '@united')\n",
    "    - Correct errors (eg. '&amp;' to '&')\n",
    "    @param    text (str): a string to be processed.\n",
    "    @return   text (Str): the processed string.\n",
    "    \"\"\"\n",
    "    # Remove '@name'\n",
    "    text = re.sub(r'(@.*?)[\\s]', ' ', text)\n",
    "\n",
    "    # Replace '&amp;' with '&'\n",
    "    text = re.sub(r'&amp;', '&', text)\n",
    "\n",
    "    # Remove trailing whitespace\n",
    "    text = re.sub(r'\\s+', ' ', text).strip()\n",
    "\n",
    "    return text\n",
    "\n",
    "df['response'] = df['response'].apply(lambda x: text_preprocessing(x))"
   ]
  },
  {
   "cell_type": "code",
   "execution_count": 7,
   "id": "c0273b80-4ca7-40d3-89d8-96d5976eeb11",
   "metadata": {},
   "outputs": [],
   "source": [
    "#producing the train, test and validation sets\n",
    "from sklearn.model_selection import train_test_split\n",
    "X_train, X_test, y_train, y_test = train_test_split(df['response'],df['nps_group'], test_size = 0.33, random_state=42)\n",
    "X_test, X_val, y_test, y_val = train_test_split(X_test,y_test, test_size = 0.5, random_state=42)"
   ]
  },
  {
   "cell_type": "markdown",
   "id": "a4f9280f-5ae3-4ded-9380-bb37f76a91ed",
   "metadata": {},
   "source": [
    "### Pre-processing for BERT"
   ]
  },
  {
   "cell_type": "code",
   "execution_count": 8,
   "id": "f63d3649-be49-48af-be27-1fc505190b2a",
   "metadata": {},
   "outputs": [
    {
     "name": "stderr",
     "output_type": "stream",
     "text": [
      "The tokenizer class you load from this checkpoint is not the same type as the class this function is called from. It may result in unexpected tokenization. \n",
      "The tokenizer class you load from this checkpoint is 'DistilBertTokenizer'. \n",
      "The class this function is called from is 'BertTokenizer'.\n"
     ]
    }
   ],
   "source": [
    "from transformers import BertTokenizer\n",
    "import torch\n",
    "# imports the torch_xla package\n",
    "#import torch_xla\n",
    "#import torch_xla.core.xla_model as xm\n",
    "\n",
    "tokenizer = BertTokenizer.from_pretrained('distilbert-base-uncased', do_lower_case=True)\n",
    "#device = xm.xla_device()\n",
    "device = torch.device(\"cuda:0\" if torch.cuda.is_available() else \"cpu\")\n",
    "def preprocessing_for_bert(data):\n",
    "    \"\"\"Perform required preprocessing steps for pretrained BERT.\n",
    "    @param    data (np.array): Array of texts to be processed.\n",
    "    @return   input_ids (torch.Tensor): Tensor of token ids to be fed to a model.\n",
    "    @return   attention_masks (torch.Tensor): Tensor of indices specifying which\n",
    "                  tokens should be attended to by the model.\n",
    "    \"\"\"\n",
    "    # Create empty lists to store outputs\n",
    "    input_ids = []\n",
    "    attention_masks = []\n",
    "\n",
    "    # For every sentence...\n",
    "    for sent in data:\n",
    "        # `encode_plus` will:\n",
    "        #    (1) Tokenize the sentence\n",
    "        #    (2) Add the `[CLS]` and `[SEP]` token to the start and end\n",
    "        #    (3) Truncate/Pad sentence to max length\n",
    "        #    (4) Map tokens to their IDs\n",
    "        #    (5) Create attention mask\n",
    "        #    (6) Return a dictionary of outputs\n",
    "        encoded_sent = tokenizer.encode_plus(\n",
    "            text=text_preprocessing(sent),  # Preprocess sentence\n",
    "            add_special_tokens=True,        # Add `[CLS]` and `[SEP]`\n",
    "            max_length=MAX_LEN,                  # Max length to truncate/pad\n",
    "            pad_to_max_length=True,         # Pad sentence to max length\n",
    "            #return_tensors='pt',           # Return PyTorch tensor\n",
    "            return_attention_mask=True      # Return attention mask\n",
    "            )\n",
    "\n",
    "        # Add the outputs to the lists\n",
    "        input_ids.append(encoded_sent.get('input_ids'))\n",
    "        attention_masks.append(encoded_sent.get('attention_mask'))\n",
    "\n",
    "    # Convert lists to tensors\n",
    "    input_ids = torch.tensor(input_ids)\n",
    "    attention_masks = torch.tensor(attention_masks)\n",
    "\n",
    "    return input_ids, attention_masks"
   ]
  },
  {
   "cell_type": "code",
   "execution_count": 9,
   "id": "9050cec8-1494-4583-82a2-95da80b3605e",
   "metadata": {},
   "outputs": [
    {
     "name": "stdout",
     "output_type": "stream",
     "text": [
      "Max length:  494\n"
     ]
    }
   ],
   "source": [
    "#need to specify the maximum string length from responses\n",
    "responses = df['response'].to_numpy()\n",
    "# Encode our concatenated data\n",
    "encoded_response = [tokenizer.encode(sent, add_special_tokens=True) for sent in responses]\n",
    "\n",
    "# Find the maximum length\n",
    "max_len = max([len(sent) for sent in encoded_response])\n",
    "print('Max length: ', max_len)"
   ]
  },
  {
   "cell_type": "code",
   "execution_count": 11,
   "id": "451f24ce-03eb-4222-a8f9-cddccf73f9ec",
   "metadata": {},
   "outputs": [
    {
     "name": "stdout",
     "output_type": "stream",
     "text": [
      "Tokenizing data...\n"
     ]
    }
   ],
   "source": [
    "# Specify `MAX_LEN`\n",
    "MAX_LEN = 490\n",
    "\n",
    "# # Print sentence 0 and its encoded token ids\n",
    "# token_ids = list(preprocessing_for_bert([X_train[0]])[0].squeeze().numpy())\n",
    "# print('Original: ', X_train[0])\n",
    "# print('Token IDs: ', token_ids)\n",
    "\n",
    "# Run function `preprocessing_for_bert` on the train set and the validation set\n",
    "print('Tokenizing data...')\n",
    "train_inputs, train_masks = preprocessing_for_bert(X_train)\n",
    "val_inputs, val_masks = preprocessing_for_bert(X_test)\n",
    "final_inputs, final_masks = preprocessing_for_bert(X_val)"
   ]
  },
  {
   "cell_type": "code",
   "execution_count": 12,
   "id": "dabf0e39-d5ad-4c33-93f2-565ea914afed",
   "metadata": {},
   "outputs": [],
   "source": [
    "from torch.utils.data import TensorDataset, DataLoader, RandomSampler, SequentialSampler\n",
    "\n",
    "# Convert other data types to torch.Tensor\n",
    "train_labels = torch.tensor(y_train.to_numpy())\n",
    "val_labels = torch.tensor(y_test.to_numpy())\n",
    "\n",
    "# For fine-tuning BERT, the authors recommend a batch size of 16 or 32.\n",
    "batch_size = 8\n",
    "\n",
    "# Create the DataLoader for our training set\n",
    "train_data = TensorDataset(train_inputs, train_masks, train_labels)\n",
    "train_sampler = RandomSampler(train_data)\n",
    "train_dataloader = DataLoader(train_data, sampler=train_sampler, batch_size=batch_size)\n",
    "\n",
    "# Create the DataLoader for our validation set\n",
    "val_data = TensorDataset(val_inputs, val_masks, val_labels)\n",
    "val_sampler = SequentialSampler(val_data)\n",
    "val_dataloader = DataLoader(val_data, sampler=val_sampler, batch_size=batch_size)\n",
    "\n"
   ]
  },
  {
   "cell_type": "code",
   "execution_count": 13,
   "id": "cc32e134-1f0b-47a4-afe6-652c2060137e",
   "metadata": {},
   "outputs": [
    {
     "name": "stdout",
     "output_type": "stream",
     "text": [
      "CPU times: user 86 ms, sys: 7.94 ms, total: 94 ms\n",
      "Wall time: 92.3 ms\n"
     ]
    }
   ],
   "source": [
    "%%time\n",
    "import torch\n",
    "import torch.nn as nn\n",
    "from transformers import BertModel\n",
    "\n",
    "# Create the BertClassfier class\n",
    "class BertClassifier(nn.Module):\n",
    "    \"\"\"Bert Model for Classification Tasks.\n",
    "    \"\"\"\n",
    "    def __init__(self, freeze_bert=False):\n",
    "        \"\"\"\n",
    "        @param    bert: a BertModel object\n",
    "        @param    classifier: a torch.nn.Module classifier\n",
    "        @param    freeze_bert (bool): Set `False` to fine-tune the BERT model\n",
    "        \"\"\"\n",
    "        super(BertClassifier, self).__init__()\n",
    "        # Specify hidden size of BERT, hidden size of our classifier, and number of labels\n",
    "        D_in, H, D_out = 768, 50, 3\n",
    "\n",
    "        # Instantiate BERT model\n",
    "        self.bert = BertModel.from_pretrained('bert-base-uncased')\n",
    "\n",
    "        # Instantiate an one-layer feed-forward classifier\n",
    "        self.classifier = nn.Sequential(\n",
    "            nn.Linear(D_in, H),\n",
    "            nn.ReLU(),\n",
    "            #nn.Dropout(0.5),\n",
    "            nn.Linear(H, D_out)\n",
    "        )\n",
    "\n",
    "        # Freeze the BERT model\n",
    "        if freeze_bert:\n",
    "            for param in self.bert.parameters():\n",
    "                param.requires_grad = False\n",
    "\n",
    "    def forward(self, input_ids, attention_mask):\n",
    "        \"\"\"\n",
    "        Feed input to BERT and the classifier to compute logits.\n",
    "        @param    input_ids (torch.Tensor): an input tensor with shape (batch_size,\n",
    "                      max_length)\n",
    "        @param    attention_mask (torch.Tensor): a tensor that hold attention mask\n",
    "                      information with shape (batch_size, max_length)\n",
    "        @return   logits (torch.Tensor): an output tensor with shape (batch_size,\n",
    "                      num_labels)\n",
    "        \"\"\"\n",
    "        # Feed input to BERT\n",
    "        outputs = self.bert(input_ids=input_ids,\n",
    "                            attention_mask=attention_mask)\n",
    "\n",
    "        # Extract the last hidden state of the token `[CLS]` for classification task\n",
    "        last_hidden_state_cls = outputs[0][:, 0, :]\n",
    "\n",
    "        # Feed input to classifier to compute logits\n",
    "        logits = self.classifier(last_hidden_state_cls)\n",
    "\n",
    "        return logits\n",
    "\n"
   ]
  },
  {
   "cell_type": "code",
   "execution_count": 14,
   "id": "f260bc53-2cc5-4454-a83f-9949640ece0a",
   "metadata": {},
   "outputs": [],
   "source": [
    "from transformers import get_linear_schedule_with_warmup\n",
    "from torch.optim import AdamW\n",
    "def initialize_model(epochs=4):\n",
    "    \"\"\"Initialize the Bert Classifier, the optimizer and the learning rate scheduler.\n",
    "    \"\"\"\n",
    "    # Instantiate Bert Classifier\n",
    "    bert_classifier = BertClassifier(freeze_bert=False)\n",
    "\n",
    "    # Tell PyTorch to run the model on CPU\n",
    "    bert_classifier.to(device)\n",
    "\n",
    "    # Create the optimizer\n",
    "    optimizer = AdamW(bert_classifier.parameters(),\n",
    "                      lr=5e-5,    # Default learning rate\n",
    "                      eps=1e-8    # Default epsilon value\n",
    "                      )\n",
    "\n",
    "    # Total number of training steps\n",
    "    total_steps = len(train_dataloader) * epochs\n",
    "\n",
    "    # Set up the learning rate scheduler\n",
    "    scheduler = get_linear_schedule_with_warmup(optimizer,\n",
    "                                                num_warmup_steps=0, # Default value\n",
    "                                                num_training_steps=total_steps)\n",
    "    return bert_classifier, optimizer, scheduler\n"
   ]
  },
  {
   "cell_type": "code",
   "execution_count": 15,
   "id": "8bd72499-5ad3-4140-b32a-52a848ea8836",
   "metadata": {},
   "outputs": [],
   "source": [
    "import random\n",
    "import time\n",
    "\n",
    "# Specify loss function\n",
    "loss_fn = nn.CrossEntropyLoss()\n",
    "\n",
    "def set_seed(seed_value=42):\n",
    "    \"\"\"Set seed for reproducibility.\n",
    "    \"\"\"\n",
    "    random.seed(seed_value)\n",
    "    np.random.seed(seed_value)\n",
    "    torch.manual_seed(seed_value)\n",
    "    torch.cuda.manual_seed_all(seed_value)\n",
    "\n",
    "def train(model, train_dataloader, val_dataloader=None, epochs=4, evaluation=False):\n",
    "    \"\"\"Train the BertClassifier model.\n",
    "    \"\"\"\n",
    "    # Start training loop\n",
    "    print(\"Start training...\\n\")\n",
    "    for epoch_i in range(epochs):\n",
    "        # =======================================\n",
    "        #               Training\n",
    "        # =======================================\n",
    "        # Print the header of the result table\n",
    "        print(f\"{'Epoch':^7} | {'Batch':^7} | {'Train Loss':^12} | {'Val Loss':^10} | {'Val Acc':^9} | {'Elapsed':^9}\")\n",
    "        print(\"-\"*70)\n",
    "\n",
    "        # Measure the elapsed time of each epoch\n",
    "        t0_epoch, t0_batch = time.time(), time.time()\n",
    "\n",
    "        # Reset tracking variables at the beginning of each epoch\n",
    "        total_loss, batch_loss, batch_counts = 0, 0, 0\n",
    "\n",
    "        # Put the model into the training mode\n",
    "        model.train()\n",
    "\n",
    "        # For each batch of training data...\n",
    "        for step, batch in enumerate(train_dataloader):\n",
    "            batch_counts +=1\n",
    "            # Load batch to GPU\n",
    "            b_input_ids, b_attn_mask, b_labels = tuple(t.to(device) for t in batch)\n",
    "\n",
    "            # Zero out any previously calculated gradients\n",
    "            model.zero_grad()\n",
    "\n",
    "            # Perform a forward pass. This will return logits.\n",
    "            logits = model(b_input_ids, b_attn_mask)\n",
    "\n",
    "            # Compute loss and accumulate the loss values\n",
    "            loss = loss_fn(logits, b_labels)\n",
    "            batch_loss += loss.item()\n",
    "            total_loss += loss.item()\n",
    "\n",
    "            # Perform a backward pass to calculate gradients\n",
    "            loss.backward()\n",
    "\n",
    "            # Clip the norm of the gradients to 1.0 to prevent \"exploding gradients\"\n",
    "            torch.nn.utils.clip_grad_norm_(model.parameters(), 1.0)\n",
    "\n",
    "            # Update parameters and the learning rate\n",
    "            optimizer.step()\n",
    "            scheduler.step()\n",
    "\n",
    "            # Print the loss values and time elapsed for every 20 batches\n",
    "            if (step % 20 == 0 and step != 0) or (step == len(train_dataloader) - 1):\n",
    "                # Calculate time elapsed for 20 batches\n",
    "                time_elapsed = time.time() - t0_batch\n",
    "\n",
    "                # Print training results\n",
    "                print(f\"{epoch_i + 1:^7} | {step:^7} | {batch_loss / batch_counts:^12.6f} | {'-':^10} | {'-':^9} | {time_elapsed:^9.2f}\")\n",
    "\n",
    "                # Reset batch tracking variables\n",
    "                batch_loss, batch_counts = 0, 0\n",
    "                t0_batch = time.time()\n",
    "\n",
    "        # Calculate the average loss over the entire training data\n",
    "        avg_train_loss = total_loss / len(train_dataloader)\n",
    "\n",
    "        print(\"-\"*70)\n",
    "        # =======================================\n",
    "        #               Evaluation\n",
    "        # =======================================\n",
    "        if evaluation == True:\n",
    "            # After the completion of each training epoch, measure the model's performance\n",
    "            # on our validation set.\n",
    "            val_loss, val_accuracy = evaluate(model, val_dataloader)\n",
    "\n",
    "            # Print performance over the entire training data\n",
    "            time_elapsed = time.time() - t0_epoch\n",
    "\n",
    "            print(f\"{epoch_i + 1:^7} | {'-':^7} | {avg_train_loss:^12.6f} | {val_loss:^10.6f} | {val_accuracy:^9.2f} | {time_elapsed:^9.2f}\")\n",
    "            print(\"-\"*70)\n",
    "        print(\"\\n\")\n",
    "\n",
    "    print(\"Training complete!\")\n",
    "\n",
    "\n",
    "def evaluate(model, val_dataloader):\n",
    "    \"\"\"After the completion of each training epoch, measure the model's performance\n",
    "    on our validation set.\n",
    "    \"\"\"\n",
    "    # Put the model into the evaluation mode. The dropout layers are disabled during\n",
    "    # the test time.\n",
    "    model.eval()\n",
    "\n",
    "    # Tracking variables\n",
    "    val_accuracy = []\n",
    "    val_loss = []\n",
    "\n",
    "    # For each batch in our validation set...\n",
    "    for batch in val_dataloader:\n",
    "        # Load batch to GPU\n",
    "        b_input_ids, b_attn_mask, b_labels = tuple(t.to(device) for t in batch)\n",
    "\n",
    "        # Compute logits\n",
    "        with torch.no_grad():\n",
    "            logits = model(b_input_ids, b_attn_mask)\n",
    "\n",
    "        # Compute loss\n",
    "        loss = loss_fn(logits, b_labels)\n",
    "        val_loss.append(loss.item())\n",
    "\n",
    "        # Get the predictions\n",
    "        preds = torch.argmax(logits, dim=1).flatten()\n",
    "\n",
    "        # Calculate the accuracy rate\n",
    "        accuracy = (preds == b_labels).cpu().numpy().mean() * 100\n",
    "        val_accuracy.append(accuracy)\n",
    "\n",
    "    # Compute the average accuracy and loss over the validation set.\n",
    "    val_loss = np.mean(val_loss)\n",
    "    val_accuracy = np.mean(val_accuracy)\n",
    "\n",
    "    return val_loss, val_accuracy\n"
   ]
  },
  {
   "cell_type": "code",
   "execution_count": 16,
   "id": "167e156a-f8e5-49ae-ad69-8c2622eb74af",
   "metadata": {},
   "outputs": [
    {
     "name": "stdout",
     "output_type": "stream",
     "text": [
      "Start training...\n",
      "\n",
      " Epoch  |  Batch  |  Train Loss  |  Val Loss  |  Val Acc  |  Elapsed \n",
      "----------------------------------------------------------------------\n",
      "   1    |   20    |   1.046683   |     -      |     -     |   9.71   \n",
      "   1    |   40    |   0.922550   |     -      |     -     |   8.29   \n",
      "   1    |   60    |   0.824562   |     -      |     -     |   8.29   \n",
      "   1    |   80    |   0.770870   |     -      |     -     |   8.21   \n",
      "   1    |   100   |   0.775451   |     -      |     -     |   8.17   \n",
      "   1    |   120   |   0.802690   |     -      |     -     |   8.16   \n",
      "   1    |   140   |   0.702195   |     -      |     -     |   8.14   \n",
      "   1    |   160   |   0.784240   |     -      |     -     |   8.11   \n",
      "   1    |   180   |   0.665069   |     -      |     -     |   8.13   \n",
      "   1    |   200   |   0.655142   |     -      |     -     |   8.13   \n",
      "   1    |   220   |   0.660390   |     -      |     -     |   8.17   \n",
      "   1    |   240   |   0.625206   |     -      |     -     |   8.19   \n",
      "   1    |   260   |   0.796306   |     -      |     -     |   8.20   \n",
      "   1    |   280   |   0.618097   |     -      |     -     |   8.22   \n",
      "   1    |   300   |   0.594735   |     -      |     -     |   8.21   \n",
      "   1    |   320   |   0.662309   |     -      |     -     |   8.18   \n",
      "   1    |   340   |   0.739226   |     -      |     -     |   8.18   \n",
      "   1    |   360   |   0.613672   |     -      |     -     |   8.17   \n",
      "   1    |   380   |   0.683960   |     -      |     -     |   8.16   \n",
      "   1    |   400   |   0.652723   |     -      |     -     |   8.17   \n",
      "   1    |   420   |   0.614505   |     -      |     -     |   8.18   \n",
      "   1    |   440   |   0.713070   |     -      |     -     |   8.20   \n",
      "   1    |   460   |   0.742022   |     -      |     -     |   8.22   \n",
      "   1    |   480   |   0.618380   |     -      |     -     |   8.22   \n",
      "   1    |   500   |   0.719120   |     -      |     -     |   8.22   \n",
      "   1    |   520   |   0.686810   |     -      |     -     |   8.20   \n",
      "   1    |   540   |   0.718935   |     -      |     -     |   8.19   \n",
      "   1    |   560   |   0.731065   |     -      |     -     |   8.17   \n",
      "   1    |   580   |   0.595872   |     -      |     -     |   8.17   \n",
      "   1    |   600   |   0.626907   |     -      |     -     |   8.16   \n",
      "   1    |   620   |   0.690129   |     -      |     -     |   8.16   \n",
      "   1    |   640   |   0.546223   |     -      |     -     |   8.19   \n",
      "   1    |   660   |   0.662555   |     -      |     -     |   8.19   \n",
      "   1    |   680   |   0.600853   |     -      |     -     |   8.20   \n",
      "   1    |   700   |   0.688443   |     -      |     -     |   8.20   \n",
      "   1    |   720   |   0.599079   |     -      |     -     |   8.21   \n",
      "   1    |   740   |   0.667331   |     -      |     -     |   8.20   \n",
      "   1    |   760   |   0.642902   |     -      |     -     |   8.19   \n",
      "   1    |   780   |   0.660868   |     -      |     -     |   8.19   \n",
      "   1    |   800   |   0.613315   |     -      |     -     |   8.19   \n",
      "   1    |   813   |   0.507354   |     -      |     -     |   5.33   \n",
      "----------------------------------------------------------------------\n",
      "   1    |    -    |   0.690825   |  0.625949  |   72.82   |  362.30  \n",
      "----------------------------------------------------------------------\n",
      "\n",
      "\n",
      " Epoch  |  Batch  |  Train Loss  |  Val Loss  |  Val Acc  |  Elapsed \n",
      "----------------------------------------------------------------------\n",
      "   2    |   20    |   0.462081   |     -      |     -     |   8.55   \n",
      "   2    |   40    |   0.455046   |     -      |     -     |   8.17   \n",
      "   2    |   60    |   0.462314   |     -      |     -     |   8.16   \n",
      "   2    |   80    |   0.433661   |     -      |     -     |   8.16   \n",
      "   2    |   100   |   0.529364   |     -      |     -     |   8.18   \n",
      "   2    |   120   |   0.492691   |     -      |     -     |   8.19   \n",
      "   2    |   140   |   0.422499   |     -      |     -     |   8.18   \n",
      "   2    |   160   |   0.553132   |     -      |     -     |   8.19   \n",
      "   2    |   180   |   0.525739   |     -      |     -     |   8.19   \n",
      "   2    |   200   |   0.489053   |     -      |     -     |   8.18   \n",
      "   2    |   220   |   0.508626   |     -      |     -     |   8.17   \n",
      "   2    |   240   |   0.549769   |     -      |     -     |   8.18   \n",
      "   2    |   260   |   0.571094   |     -      |     -     |   8.17   \n",
      "   2    |   280   |   0.494184   |     -      |     -     |   8.17   \n",
      "   2    |   300   |   0.461784   |     -      |     -     |   8.18   \n",
      "   2    |   320   |   0.496689   |     -      |     -     |   8.17   \n",
      "   2    |   340   |   0.580877   |     -      |     -     |   8.18   \n",
      "   2    |   360   |   0.512034   |     -      |     -     |   8.18   \n",
      "   2    |   380   |   0.439341   |     -      |     -     |   8.20   \n",
      "   2    |   400   |   0.532428   |     -      |     -     |   8.21   \n",
      "   2    |   420   |   0.519505   |     -      |     -     |   8.21   \n",
      "   2    |   440   |   0.463604   |     -      |     -     |   8.22   \n",
      "   2    |   460   |   0.411607   |     -      |     -     |   8.21   \n",
      "   2    |   480   |   0.563504   |     -      |     -     |   8.20   \n",
      "   2    |   500   |   0.562415   |     -      |     -     |   8.18   \n",
      "   2    |   520   |   0.660450   |     -      |     -     |   8.16   \n",
      "   2    |   540   |   0.593214   |     -      |     -     |   8.16   \n",
      "   2    |   560   |   0.415972   |     -      |     -     |   8.16   \n",
      "   2    |   580   |   0.405326   |     -      |     -     |   8.19   \n",
      "   2    |   600   |   0.470347   |     -      |     -     |   8.19   \n",
      "   2    |   620   |   0.510247   |     -      |     -     |   8.20   \n",
      "   2    |   640   |   0.533779   |     -      |     -     |   8.21   \n",
      "   2    |   660   |   0.525238   |     -      |     -     |   8.20   \n",
      "   2    |   680   |   0.411635   |     -      |     -     |   8.20   \n",
      "   2    |   700   |   0.609159   |     -      |     -     |   8.21   \n",
      "   2    |   720   |   0.541126   |     -      |     -     |   8.21   \n",
      "   2    |   740   |   0.419996   |     -      |     -     |   8.19   \n",
      "   2    |   760   |   0.340771   |     -      |     -     |   8.17   \n",
      "   2    |   780   |   0.369216   |     -      |     -     |   8.17   \n",
      "   2    |   800   |   0.399935   |     -      |     -     |   8.16   \n",
      "   2    |   813   |   0.579081   |     -      |     -     |   5.31   \n",
      "----------------------------------------------------------------------\n",
      "   2    |    -    |   0.493832   |  0.636636  |   73.69   |  360.94  \n",
      "----------------------------------------------------------------------\n",
      "\n",
      "\n",
      "Training complete!\n"
     ]
    }
   ],
   "source": [
    "set_seed(42)    # Set seed for reproducibility\n",
    "bert_classifier, optimizer, scheduler = initialize_model(epochs=2)\n",
    "train(bert_classifier, train_dataloader, val_dataloader, epochs=2, evaluation=True)\n"
   ]
  },
  {
   "cell_type": "code",
   "execution_count": 17,
   "id": "8a91884f-ca5d-4eb4-a763-95e72030feb1",
   "metadata": {},
   "outputs": [],
   "source": [
    "import torch.nn.functional as F\n",
    "import matplotlib as mpl\n",
    "import matplotlib.pyplot as plt\n",
    "\n",
    "def bert_predict(model, test_dataloader):\n",
    "    \"\"\"Perform a forward pass on the trained BERT model to predict probabilities\n",
    "    on the test set.\n",
    "    \"\"\"\n",
    "    # Put the model into the evaluation mode. The dropout layers are disabled during\n",
    "    # the test time.\n",
    "    model.eval()\n",
    "\n",
    "    all_logits = []\n",
    "\n",
    "    # For each batch in our test set...\n",
    "    for batch in test_dataloader:\n",
    "        # Load batch to GPU\n",
    "        b_input_ids, b_attn_mask = tuple(t.to(device) for t in batch)[:2]\n",
    "\n",
    "        # Compute logits\n",
    "        with torch.no_grad():\n",
    "            logits = model(b_input_ids, b_attn_mask)\n",
    "        all_logits.append(logits)\n",
    "\n",
    "    # Concatenate logits from each batch\n",
    "    all_logits = torch.cat(all_logits, dim=0)\n",
    "\n",
    "    # Apply softmax to calculate probabilities\n",
    "    probs = F.softmax(all_logits).cpu().numpy()\n",
    "\n",
    "    return probs\n",
    "\n",
    "from sklearn.metrics import accuracy_score, roc_curve, auc\n",
    "\n",
    "def evaluate_roc(probs, y_true):\n",
    "    \"\"\"\n",
    "    - Print AUC and accuracy on the test set\n",
    "    - Plot ROC\n",
    "    @params    probs (np.array): an array of predicted probabilities with shape (len(y_true), 2)\n",
    "    @params    y_true (np.array): an array of the true values with shape (len(y_true),)\n",
    "    \"\"\"\n",
    "    # preds = probs[:, 1]\n",
    "    # fpr, tpr, threshold = roc_curve(y_true, preds)\n",
    "    # roc_auc = auc(fpr, tpr)\n",
    "    #print(f'AUC: {roc_auc:.4f}')\n",
    "\n",
    "    # Get accuracy over the test set\n",
    "    accuracy = accuracy_score(y_true, probs)\n",
    "    print(f'Accuracy: {accuracy*100:.2f}%')\n",
    "\n",
    "    # # Plot ROC AUC\n",
    "    # plt.title('Receiver Operating Characteristic')\n",
    "    # plt.plot(fpr, tpr, 'b', label = 'AUC = %0.2f' % roc_auc)\n",
    "    # plt.legend(loc = 'lower right')\n",
    "    # plt.plot([0, 1], [0, 1],'r--')\n",
    "    # plt.xlim([0, 1])\n",
    "    # plt.ylim([0, 1])\n",
    "    # plt.ylabel('True Positive Rate')\n",
    "    # plt.xlabel('False Positive Rate')\n",
    "    # plt.show()\n",
    "    return accuracy"
   ]
  },
  {
   "cell_type": "code",
   "execution_count": 18,
   "id": "410b90e3-e882-4064-9a0d-e531f7fdb7d3",
   "metadata": {},
   "outputs": [
    {
     "name": "stderr",
     "output_type": "stream",
     "text": [
      "/var/tmp/ipykernel_26746/378880163.py:29: UserWarning: Implicit dimension choice for softmax has been deprecated. Change the call to include dim=X as an argument.\n",
      "  probs = F.softmax(all_logits).cpu().numpy()\n"
     ]
    }
   ],
   "source": [
    "# Compute predicted probabilities on the test set\n",
    "probs = bert_predict(bert_classifier, val_dataloader)\n",
    "\n",
    "# #converting softmax probabilities to classification\n",
    "# classification = probs.argmax(axis = 1)\n",
    "# # # Evaluate the Bert classifier\n",
    "# evaluate_roc(classification, y_test)"
   ]
  },
  {
   "cell_type": "code",
   "execution_count": 20,
   "id": "b7bc479e-4cda-46f7-b658-ca1c81ec43bc",
   "metadata": {},
   "outputs": [
    {
     "name": "stdout",
     "output_type": "stream",
     "text": [
      "Accuracy: 73.69%\n"
     ]
    }
   ],
   "source": [
    "#converting softmax probabilities to classification\n",
    "classification = probs.argmax(axis = 1)\n",
    "# # Evaluate the Bert classifier\n",
    "accuracy = evaluate_roc(classification, y_test)"
   ]
  },
  {
   "cell_type": "markdown",
   "id": "3042d4cb-423d-47d2-ba21-0984cab478fa",
   "metadata": {},
   "source": [
    "## Saving the model and recording its production"
   ]
  },
  {
   "cell_type": "code",
   "execution_count": 21,
   "id": "35540045-8d4c-4b60-9eb2-288fd8a00af1",
   "metadata": {},
   "outputs": [
    {
     "data": {
      "text/plain": [
       "'surveys-402414'"
      ]
     },
     "execution_count": 21,
     "metadata": {},
     "output_type": "execute_result"
    }
   ],
   "source": [
    "project = !gcloud config get-value project\n",
    "PROJECT_ID = project[0]\n",
    "PROJECT_ID"
   ]
  },
  {
   "cell_type": "code",
   "execution_count": 37,
   "id": "2983912b-c972-4b4f-a9b0-5495550c96c2",
   "metadata": {},
   "outputs": [],
   "source": [
    "#saving the model \n",
    "from datetime import datetime\n",
    "REGION = 'europe-west2'\n",
    "EXPERIMENT = '01'\n",
    "SERIES = '01'\n",
    "\n",
    "TIMESTAMP = datetime.now().strftime(\"%Y%m%d%H%M%S\")\n",
    "BUCKET = PROJECT_ID\n",
    "URI = f\"gs://{BUCKET}/{SERIES}/{EXPERIMENT}\"\n",
    "DIR = f\"temp/{EXPERIMENT}\"\n",
    "BLOB = r\"{SERIES}/{EXPERIMENT}/models/{TIMESTAMP}/model/sentiment_classifier.pt\"\n"
   ]
  },
  {
   "cell_type": "code",
   "execution_count": 23,
   "id": "cbf98d6e-bb5a-42da-ab36-7945bdf8caa6",
   "metadata": {},
   "outputs": [],
   "source": [
    "FRAMEWORK = 'pytorch'\n",
    "TASK = 'classification'\n",
    "MODEL_TYPE = 'bert'\n",
    "EXPERIMENT_NAME = f'experiment-{SERIES}-{EXPERIMENT}-{FRAMEWORK}-{TASK}-{MODEL_TYPE}'\n",
    "RUN_NAME = f'run-{TIMESTAMP}'"
   ]
  },
  {
   "cell_type": "code",
   "execution_count": 24,
   "id": "246f77af-32b2-4ab7-8108-6a963269a4f9",
   "metadata": {},
   "outputs": [],
   "source": [
    "#Required packages\n",
    "from google.cloud import aiplatform\n",
    "from google.cloud import storage\n",
    "import json\n",
    "\n",
    "from datetime import datetime\n",
    "import os\n",
    "\n",
    "from google.protobuf import json_format\n",
    "from google.protobuf.struct_pb2 import Value"
   ]
  },
  {
   "cell_type": "code",
   "execution_count": 25,
   "id": "c71751f3-74b7-4c21-8dc0-27421ec023d3",
   "metadata": {},
   "outputs": [],
   "source": [
    "aiplatform.init(project=PROJECT_ID, location=REGION)"
   ]
  },
  {
   "cell_type": "code",
   "execution_count": 26,
   "id": "9ead1184-e50a-4425-b696-9f7c0703097d",
   "metadata": {},
   "outputs": [],
   "source": [
    "!rm -rf {DIR}\n",
    "!mkdir -p {DIR}"
   ]
  },
  {
   "cell_type": "markdown",
   "id": "5b647b79-ebaf-4c63-9b89-c9845677a702",
   "metadata": {},
   "source": [
    "## Initialising experiment"
   ]
  },
  {
   "cell_type": "code",
   "execution_count": null,
   "id": "b9f19dab-0239-4a89-a260-1a3b9070a38b",
   "metadata": {},
   "outputs": [],
   "source": [
    "aiplatform.init(experiment = EXPERIMENT_NAME)"
   ]
  },
  {
   "cell_type": "code",
   "execution_count": null,
   "id": "83b99566-10be-4536-a95a-ff646b3a9731",
   "metadata": {},
   "outputs": [
    {
     "name": "stdout",
     "output_type": "stream",
     "text": [
      "Associating projects/240414127532/locations/europe-west2/metadataStores/default/contexts/experiment-01-01-pytorch-classification-bert-run-20231106164016 to Experiment: experiment-01-01-pytorch-classification-bert\n"
     ]
    }
   ],
   "source": [
    "expRun = aiplatform.ExperimentRun.create(run_name = RUN_NAME, experiment = EXPERIMENT_NAME)"
   ]
  },
  {
   "cell_type": "code",
   "execution_count": null,
   "id": "34ae6e69-3fd5-48d3-82df-89dcd4998546",
   "metadata": {},
   "outputs": [],
   "source": [
    "#log parameters to the experiment run:\n",
    "expRun.log_params({'experiment': EXPERIMENT, 'series': SERIES, 'project_id': PROJECT_ID})"
   ]
  },
  {
   "cell_type": "code",
   "execution_count": null,
   "id": "cc4ca9ef-ba64-4d37-b36b-57d73b72e932",
   "metadata": {},
   "outputs": [],
   "source": [
    "expRun.log_metrics({'test_accuracy': accuracy})"
   ]
  },
  {
   "cell_type": "markdown",
   "id": "4e417773-17f3-4ff4-8075-45f7f03e78e1",
   "metadata": {
    "tags": []
   },
   "source": [
    "## Saving model for later use "
   ]
  },
  {
   "cell_type": "code",
   "execution_count": 38,
   "id": "de2f2675-63d1-43e1-93e7-fc08138bfa04",
   "metadata": {},
   "outputs": [],
   "source": [
    "model_save_name = 'sentiment_classifier.pt'\n",
    "path = F\"{model_save_name}\"\n",
    "torch.save(bert_classifier.state_dict(), path)"
   ]
  },
  {
   "cell_type": "code",
   "execution_count": 41,
   "id": "6f86f1c4-ebf0-4fb1-93f9-75c4bc09d309",
   "metadata": {},
   "outputs": [
    {
     "ename": "RuntimeError",
     "evalue": "Parent directory gs://sentiment_response does not exist.",
     "output_type": "error",
     "traceback": [
      "\u001b[0;31m---------------------------------------------------------------------------\u001b[0m",
      "\u001b[0;31mRuntimeError\u001b[0m                              Traceback (most recent call last)",
      "Cell \u001b[0;32mIn[41], line 1\u001b[0m\n\u001b[0;32m----> 1\u001b[0m \u001b[43mtorch\u001b[49m\u001b[38;5;241;43m.\u001b[39;49m\u001b[43msave\u001b[49m\u001b[43m(\u001b[49m\u001b[43mbert_classifier\u001b[49m\u001b[38;5;241;43m.\u001b[39;49m\u001b[43mstate_dict\u001b[49m\u001b[43m(\u001b[49m\u001b[43m)\u001b[49m\u001b[43m,\u001b[49m\u001b[43m  \u001b[49m\u001b[38;5;124;43m'\u001b[39;49m\u001b[38;5;124;43mgs://sentiment_response/bert_sentiment.pt\u001b[39;49m\u001b[38;5;124;43m'\u001b[39;49m\u001b[43m)\u001b[49m\n",
      "File \u001b[0;32m/opt/conda/lib/python3.10/site-packages/torch/serialization.py:440\u001b[0m, in \u001b[0;36msave\u001b[0;34m(obj, f, pickle_module, pickle_protocol, _use_new_zipfile_serialization)\u001b[0m\n\u001b[1;32m    437\u001b[0m _check_save_filelike(f)\n\u001b[1;32m    439\u001b[0m \u001b[38;5;28;01mif\u001b[39;00m _use_new_zipfile_serialization:\n\u001b[0;32m--> 440\u001b[0m     \u001b[38;5;28;01mwith\u001b[39;00m \u001b[43m_open_zipfile_writer\u001b[49m\u001b[43m(\u001b[49m\u001b[43mf\u001b[49m\u001b[43m)\u001b[49m \u001b[38;5;28;01mas\u001b[39;00m opened_zipfile:\n\u001b[1;32m    441\u001b[0m         _save(obj, opened_zipfile, pickle_module, pickle_protocol)\n\u001b[1;32m    442\u001b[0m         \u001b[38;5;28;01mreturn\u001b[39;00m\n",
      "File \u001b[0;32m/opt/conda/lib/python3.10/site-packages/torch/serialization.py:315\u001b[0m, in \u001b[0;36m_open_zipfile_writer\u001b[0;34m(name_or_buffer)\u001b[0m\n\u001b[1;32m    313\u001b[0m \u001b[38;5;28;01melse\u001b[39;00m:\n\u001b[1;32m    314\u001b[0m     container \u001b[38;5;241m=\u001b[39m _open_zipfile_writer_buffer\n\u001b[0;32m--> 315\u001b[0m \u001b[38;5;28;01mreturn\u001b[39;00m \u001b[43mcontainer\u001b[49m\u001b[43m(\u001b[49m\u001b[43mname_or_buffer\u001b[49m\u001b[43m)\u001b[49m\n",
      "File \u001b[0;32m/opt/conda/lib/python3.10/site-packages/torch/serialization.py:288\u001b[0m, in \u001b[0;36m_open_zipfile_writer_file.__init__\u001b[0;34m(self, name)\u001b[0m\n\u001b[1;32m    287\u001b[0m \u001b[38;5;28;01mdef\u001b[39;00m \u001b[38;5;21m__init__\u001b[39m(\u001b[38;5;28mself\u001b[39m, name) \u001b[38;5;241m-\u001b[39m\u001b[38;5;241m>\u001b[39m \u001b[38;5;28;01mNone\u001b[39;00m:\n\u001b[0;32m--> 288\u001b[0m     \u001b[38;5;28msuper\u001b[39m()\u001b[38;5;241m.\u001b[39m\u001b[38;5;21m__init__\u001b[39m(\u001b[43mtorch\u001b[49m\u001b[38;5;241;43m.\u001b[39;49m\u001b[43m_C\u001b[49m\u001b[38;5;241;43m.\u001b[39;49m\u001b[43mPyTorchFileWriter\u001b[49m\u001b[43m(\u001b[49m\u001b[38;5;28;43mstr\u001b[39;49m\u001b[43m(\u001b[49m\u001b[43mname\u001b[49m\u001b[43m)\u001b[49m\u001b[43m)\u001b[49m)\n",
      "\u001b[0;31mRuntimeError\u001b[0m: Parent directory gs://sentiment_response does not exist."
     ]
    }
   ],
   "source": [
    "torch.save(bert_classifier.state_dict(),  'gs://sentiment_response/bert_sentiment.pt')"
   ]
  },
  {
   "cell_type": "code",
   "execution_count": 43,
   "id": "9a301f37-20fd-49fe-a13f-382c227ca67d",
   "metadata": {},
   "outputs": [],
   "source": [
    "# Upload the model to GCS\n",
    "bucket = storage.Client().bucket('sentiment_response')\n",
    "blob = bucket.blob('test')\n",
    "blob.upload_from_filename('sentiment_classifier.pt')"
   ]
  },
  {
   "cell_type": "code",
   "execution_count": 44,
   "id": "91ff5b42-354b-41b0-aeee-71570dcfe043",
   "metadata": {},
   "outputs": [
    {
     "name": "stdout",
     "output_type": "stream",
     "text": [
      "CommandException: One or more URLs matched no objects.\n"
     ]
    }
   ],
   "source": [
    "!gsutil ls gs://sentiment_response/{SERIES}/{EXPERIMENT}/models/{TIMESTAMP}/model"
   ]
  },
  {
   "cell_type": "code",
   "execution_count": 48,
   "id": "9b32f62b-335a-435d-83af-6fcbd68c08f5",
   "metadata": {},
   "outputs": [],
   "source": [
    "from google.cloud import storage\n",
    "\n",
    "def download_model_weight(bucket_name, source_blob_name, destination_file_path):\n",
    "    \"\"\"Downloads a model weight file from Google Cloud Storage.\"\"\"\n",
    "    storage_client = storage.Client()\n",
    "\n",
    "    bucket = storage_client.bucket(bucket_name)\n",
    "    blob = bucket.blob(source_blob_name)\n",
    "\n",
    "    # Download the model weight file\n",
    "    blob.download_to_filename(destination_file_path)\n",
    "\n",
    "if __name__ == \"__main__\":\n",
    "    bucket_name = \"sentiment_response\"\n",
    "    source_blob_name = r\"{SERIES}/{EXPERIMENT}/models/{TIMESTAMP}/model/sentiment_classifier.pt\"  # Path to the model weight file in the bucket\n",
    "    destination_file_path = \"model_weights.pt\"  # Local path where you want to save the model weight file\n",
    "\n",
    "    download_model_weight(bucket_name, source_blob_name, destination_file_path)"
   ]
  },
  {
   "cell_type": "code",
   "execution_count": 45,
   "id": "40b1dcac-bac6-45fa-81e0-94066594ebc0",
   "metadata": {},
   "outputs": [],
   "source": [
    "bert2, optimizer, scheduler = initialize_model(epochs=2)"
   ]
  },
  {
   "cell_type": "code",
   "execution_count": 49,
   "id": "1983d59d-d93a-4d28-892d-5071a66d7634",
   "metadata": {},
   "outputs": [
    {
     "data": {
      "text/plain": [
       "<All keys matched successfully>"
      ]
     },
     "execution_count": 49,
     "metadata": {},
     "output_type": "execute_result"
    }
   ],
   "source": [
    "#model_save_name = 'bert_classifier.pt'\n",
    "path = r\"model_weights.pt\"\n",
    "bert2.load_state_dict(torch.load(path))"
   ]
  },
  {
   "cell_type": "code",
   "execution_count": null,
   "id": "a3e6354f-9d6e-4951-9b3b-6814c91260d8",
   "metadata": {},
   "outputs": [],
   "source": []
  },
  {
   "cell_type": "code",
   "execution_count": 58,
   "id": "6725f460-b9c4-48ad-a4f3-d46eb8c53cb7",
   "metadata": {},
   "outputs": [],
   "source": [
    "#logging where the model has been saved\n",
    "expRun.log_params({'model.save': r'gs://sentiment_response/01/01/models/20231024142940/model/sentiment_classifier.pt'})"
   ]
  },
  {
   "cell_type": "code",
   "execution_count": 69,
   "id": "ea23f9cd-8433-47aa-8d5d-86ebf5543459",
   "metadata": {},
   "outputs": [
    {
     "name": "stdout",
     "output_type": "stream",
     "text": [
      "This is a new model, creating in model registry\n",
      "Creating Model\n"
     ]
    },
    {
     "name": "stderr",
     "output_type": "stream",
     "text": [
      "INFO:google.cloud.aiplatform.models:Creating Model\n"
     ]
    },
    {
     "name": "stdout",
     "output_type": "stream",
     "text": [
      "Create Model backing LRO: projects/240414127532/locations/europe-west2/models/model_01_01/operations/5591648846426931200\n"
     ]
    },
    {
     "name": "stderr",
     "output_type": "stream",
     "text": [
      "INFO:google.cloud.aiplatform.models:Create Model backing LRO: projects/240414127532/locations/europe-west2/models/model_01_01/operations/5591648846426931200\n"
     ]
    },
    {
     "name": "stdout",
     "output_type": "stream",
     "text": [
      "Model created. Resource name: projects/240414127532/locations/europe-west2/models/model_01_01@1\n"
     ]
    },
    {
     "name": "stderr",
     "output_type": "stream",
     "text": [
      "INFO:google.cloud.aiplatform.models:Model created. Resource name: projects/240414127532/locations/europe-west2/models/model_01_01@1\n"
     ]
    },
    {
     "name": "stdout",
     "output_type": "stream",
     "text": [
      "To use this Model in another session:\n"
     ]
    },
    {
     "name": "stderr",
     "output_type": "stream",
     "text": [
      "INFO:google.cloud.aiplatform.models:To use this Model in another session:\n"
     ]
    },
    {
     "name": "stdout",
     "output_type": "stream",
     "text": [
      "model = aiplatform.Model('projects/240414127532/locations/europe-west2/models/model_01_01@1')\n"
     ]
    },
    {
     "name": "stderr",
     "output_type": "stream",
     "text": [
      "INFO:google.cloud.aiplatform.models:model = aiplatform.Model('projects/240414127532/locations/europe-west2/models/model_01_01@1')\n"
     ]
    }
   ],
   "source": [
    "modelmatch = aiplatform.Model.list(filter = f'display_name={SERIES}_{EXPERIMENT} AND labels.series={SERIES} AND labels.experiment={EXPERIMENT}')\n",
    "\n",
    "upload_model = True\n",
    "if modelmatch:\n",
    "    print(\"Model Already in Registry:\")\n",
    "    if RUN_NAME in modelmatch[0].version_aliases:\n",
    "        print(\"This version already loaded, no action taken.\")\n",
    "        upload_model = False\n",
    "        model = aiplatform.Model(model_name = modelmatch[0].resource_name)\n",
    "    else:\n",
    "        print('Loading model as new default version.')\n",
    "        parent_model = modelmatch[0].resource_name\n",
    "\n",
    "else:\n",
    "    print('This is a new model, creating in model registry')\n",
    "    parent_model = ''\n",
    "\n",
    "if upload_model:\n",
    "    model = aiplatform.Model.upload(\n",
    "        display_name = f'{SERIES}_{EXPERIMENT}',\n",
    "        model_id = f'model_{SERIES}_{EXPERIMENT}',\n",
    "        parent_model =  parent_model,\n",
    "        serving_container_image_uri = 'europe-docker.pkg.dev/vertex-ai/training/pytorch-gpu.1-13:latest',\n",
    "        artifact_uri =r'gs://sentiment_response/01/01/models/20231024142940/model',\n",
    "        is_default_version = True,\n",
    "        version_aliases = [RUN_NAME],\n",
    "        version_description = RUN_NAME,\n",
    "        labels = {'series' : f'{SERIES}', 'experiment' : f'{EXPERIMENT}', 'experiment_name' : f'{EXPERIMENT_NAME}', 'run_name' : f'{RUN_NAME}'}        \n",
    "    )"
   ]
  },
  {
   "cell_type": "code",
   "execution_count": 70,
   "id": "6c59fc1c-4206-4a7b-a04c-86c43fea5163",
   "metadata": {},
   "outputs": [
    {
     "name": "stdout",
     "output_type": "stream",
     "text": [
      "Review the model in the Vertex AI Model Registry:\n",
      "https://console.cloud.google.com/vertex-ai/locations/europe-west2/models/model_01_01?project=surveys-402414\n"
     ]
    }
   ],
   "source": [
    "print(f'Review the model in the Vertex AI Model Registry:\\nhttps://console.cloud.google.com/vertex-ai/locations/{REGION}/models/{model.name}?project={PROJECT_ID}')"
   ]
  },
  {
   "cell_type": "code",
   "execution_count": 71,
   "id": "7ccb3949-9ab4-4026-9fed-2b7a58de56d4",
   "metadata": {},
   "outputs": [],
   "source": [
    "#update model descriptions\n",
    "expRun.log_params({\n",
    "    'model.uri': model.uri,\n",
    "    'model.display_name': model.display_name,\n",
    "    'model.name': model.name,\n",
    "    'model.resource_name': model.resource_name,\n",
    "    'model.version_id': model.version_id,\n",
    "    'model.versioned_resource_name': model.versioned_resource_name\n",
    "})"
   ]
  },
  {
   "cell_type": "code",
   "execution_count": 72,
   "id": "91c81a21-fadf-482a-a187-e3ffdd1a2920",
   "metadata": {},
   "outputs": [],
   "source": [
    "#complete experiment run\n",
    "expRun.update_state(state = aiplatform.gapic.Execution.State.COMPLETE)"
   ]
  },
  {
   "cell_type": "code",
   "execution_count": 73,
   "id": "9136884b-ecce-4ccd-8aa8-c75fd6588918",
   "metadata": {},
   "outputs": [],
   "source": [
    "exp = aiplatform.Experiment(experiment_name = EXPERIMENT_NAME)"
   ]
  },
  {
   "cell_type": "code",
   "execution_count": 74,
   "id": "e175ebec-925c-446b-8a6f-14c83a2eed48",
   "metadata": {},
   "outputs": [
    {
     "data": {
      "text/html": [
       "<div>\n",
       "<style scoped>\n",
       "    .dataframe tbody tr th:only-of-type {\n",
       "        vertical-align: middle;\n",
       "    }\n",
       "\n",
       "    .dataframe tbody tr th {\n",
       "        vertical-align: top;\n",
       "    }\n",
       "\n",
       "    .dataframe thead th {\n",
       "        text-align: right;\n",
       "    }\n",
       "</style>\n",
       "<table border=\"1\" class=\"dataframe\">\n",
       "  <thead>\n",
       "    <tr style=\"text-align: right;\">\n",
       "      <th></th>\n",
       "      <th>experiment_name</th>\n",
       "      <th>run_name</th>\n",
       "      <th>run_type</th>\n",
       "      <th>state</th>\n",
       "      <th>param.series</th>\n",
       "      <th>param.model.name</th>\n",
       "      <th>param.project_id</th>\n",
       "      <th>param.model.resource_name</th>\n",
       "      <th>param.model.save</th>\n",
       "      <th>param.model.versioned_resource_name</th>\n",
       "      <th>param.experiment</th>\n",
       "      <th>param.model.display_name</th>\n",
       "      <th>param.model.version_id</th>\n",
       "      <th>param.model.uri</th>\n",
       "      <th>metric.test_accuracy</th>\n",
       "    </tr>\n",
       "  </thead>\n",
       "  <tbody>\n",
       "    <tr>\n",
       "      <th>0</th>\n",
       "      <td>experiment-01-01-pytorch-classification-bert</td>\n",
       "      <td>run-20231024142940</td>\n",
       "      <td>system.ExperimentRun</td>\n",
       "      <td>COMPLETE</td>\n",
       "      <td>01</td>\n",
       "      <td>model_01_01</td>\n",
       "      <td>surveys-402414</td>\n",
       "      <td>projects/240414127532/locations/europe-west2/m...</td>\n",
       "      <td>gs://sentiment_response/01/01/models/202310241...</td>\n",
       "      <td>projects/240414127532/locations/europe-west2/m...</td>\n",
       "      <td>01</td>\n",
       "      <td>01_01</td>\n",
       "      <td>1</td>\n",
       "      <td>gs://sentiment_response/01/01/models/202310241...</td>\n",
       "      <td>0.737531</td>\n",
       "    </tr>\n",
       "  </tbody>\n",
       "</table>\n",
       "</div>"
      ],
      "text/plain": [
       "                                experiment_name            run_name  \\\n",
       "0  experiment-01-01-pytorch-classification-bert  run-20231024142940   \n",
       "\n",
       "               run_type     state param.series param.model.name  \\\n",
       "0  system.ExperimentRun  COMPLETE           01      model_01_01   \n",
       "\n",
       "  param.project_id                          param.model.resource_name  \\\n",
       "0   surveys-402414  projects/240414127532/locations/europe-west2/m...   \n",
       "\n",
       "                                    param.model.save  \\\n",
       "0  gs://sentiment_response/01/01/models/202310241...   \n",
       "\n",
       "                 param.model.versioned_resource_name param.experiment  \\\n",
       "0  projects/240414127532/locations/europe-west2/m...               01   \n",
       "\n",
       "  param.model.display_name param.model.version_id  \\\n",
       "0                    01_01                      1   \n",
       "\n",
       "                                     param.model.uri  metric.test_accuracy  \n",
       "0  gs://sentiment_response/01/01/models/202310241...              0.737531  "
      ]
     },
     "execution_count": 74,
     "metadata": {},
     "output_type": "execute_result"
    }
   ],
   "source": [
    "exp.get_data_frame()"
   ]
  },
  {
   "cell_type": "markdown",
   "id": "2bd69c2c-c208-4679-b81e-b9d04c5f6941",
   "metadata": {},
   "source": [
    "## Now need to have a current version which is managed in the model registry"
   ]
  },
  {
   "cell_type": "code",
   "execution_count": null,
   "id": "e4f8f42a-dcf8-4789-8540-e866996c9176",
   "metadata": {},
   "outputs": [],
   "source": []
  }
 ],
 "metadata": {
  "environment": {
   "kernel": "python3",
   "name": "pytorch-gpu.2-0.m112",
   "type": "gcloud",
   "uri": "gcr.io/deeplearning-platform-release/pytorch-gpu.2-0:m112"
  },
  "kernelspec": {
   "display_name": "Python 3",
   "language": "python",
   "name": "python3"
  },
  "language_info": {
   "codemirror_mode": {
    "name": "ipython",
    "version": 3
   },
   "file_extension": ".py",
   "mimetype": "text/x-python",
   "name": "python",
   "nbconvert_exporter": "python",
   "pygments_lexer": "ipython3",
   "version": "3.10.12"
  }
 },
 "nbformat": 4,
 "nbformat_minor": 5
}
